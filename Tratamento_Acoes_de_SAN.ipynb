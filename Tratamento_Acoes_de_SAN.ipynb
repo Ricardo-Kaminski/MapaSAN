{
 "cells": [
  {
   "cell_type": "code",
   "execution_count": 180,
   "metadata": {},
   "outputs": [],
   "source": [
    "import numpy as np \n",
    "import pandas as pd \n",
    "import matplotlib.pyplot as plt\n",
    "import openpyxl\n",
    "import re\n",
    "import io\n",
    "import os"
   ]
  },
  {
   "cell_type": "code",
   "execution_count": 181,
   "metadata": {},
   "outputs": [],
   "source": [
    "#pd.set_option('display.max_rows', None)\n",
    "#pd.set_option('display.max_columns', None)\n",
    "#pd.set_option('display.width', None)"
   ]
  },
  {
   "cell_type": "code",
   "execution_count": 182,
   "metadata": {},
   "outputs": [],
   "source": [
    "def autodict(df, var: str):\n",
    "    unique = df[var].unique()\n",
    "    dicionario = dict(zip(unique, range(len(unique))))\n",
    "    return str(var), dicionario"
   ]
  },
  {
   "cell_type": "code",
   "execution_count": 183,
   "metadata": {},
   "outputs": [
    {
     "data": {
      "text/html": [
       "<div>\n",
       "<style scoped>\n",
       "    .dataframe tbody tr th:only-of-type {\n",
       "        vertical-align: middle;\n",
       "    }\n",
       "\n",
       "    .dataframe tbody tr th {\n",
       "        vertical-align: top;\n",
       "    }\n",
       "\n",
       "    .dataframe thead th {\n",
       "        text-align: right;\n",
       "    }\n",
       "</style>\n",
       "<table border=\"1\" class=\"dataframe\">\n",
       "  <thead>\n",
       "    <tr style=\"text-align: right;\">\n",
       "      <th></th>\n",
       "      <th>nome_municipio</th>\n",
       "      <th>uf</th>\n",
       "      <th>v9043</th>\n",
       "      <th>v14072_2</th>\n",
       "      <th>v14072_4</th>\n",
       "      <th>v14072_6</th>\n",
       "      <th>v14072_8</th>\n",
       "      <th>v14072_10</th>\n",
       "      <th>v14072_12</th>\n",
       "      <th>v14072_14</th>\n",
       "      <th>...</th>\n",
       "      <th>v14132_45</th>\n",
       "      <th>v14132_50</th>\n",
       "      <th>v14132_55</th>\n",
       "      <th>v14132_60</th>\n",
       "      <th>v14132_98</th>\n",
       "      <th>v14132_97</th>\n",
       "      <th>v14133</th>\n",
       "      <th>usuario</th>\n",
       "      <th>data_hora_preenchimento</th>\n",
       "      <th>data_hora_extracao</th>\n",
       "    </tr>\n",
       "    <tr>\n",
       "      <th>codigo_municipio</th>\n",
       "      <th></th>\n",
       "      <th></th>\n",
       "      <th></th>\n",
       "      <th></th>\n",
       "      <th></th>\n",
       "      <th></th>\n",
       "      <th></th>\n",
       "      <th></th>\n",
       "      <th></th>\n",
       "      <th></th>\n",
       "      <th></th>\n",
       "      <th></th>\n",
       "      <th></th>\n",
       "      <th></th>\n",
       "      <th></th>\n",
       "      <th></th>\n",
       "      <th></th>\n",
       "      <th></th>\n",
       "      <th></th>\n",
       "      <th></th>\n",
       "      <th></th>\n",
       "    </tr>\n",
       "  </thead>\n",
       "  <tbody>\n",
       "    <tr>\n",
       "      <th>1200336</th>\n",
       "      <td>Mâncio Lima</td>\n",
       "      <td>AC</td>\n",
       "      <td>Não Sabe</td>\n",
       "      <td>NaN</td>\n",
       "      <td>NaN</td>\n",
       "      <td>NaN</td>\n",
       "      <td>NaN</td>\n",
       "      <td>NaN</td>\n",
       "      <td>NaN</td>\n",
       "      <td>NaN</td>\n",
       "      <td>...</td>\n",
       "      <td>NaN</td>\n",
       "      <td>NaN</td>\n",
       "      <td>NaN</td>\n",
       "      <td>NaN</td>\n",
       "      <td>NaN</td>\n",
       "      <td>NaN</td>\n",
       "      <td>Nenhuma.</td>\n",
       "      <td>5.407811e+09</td>\n",
       "      <td>2022-07-27 12:12:28.690</td>\n",
       "      <td>2022-08-12 11:18:46.295</td>\n",
       "    </tr>\n",
       "    <tr>\n",
       "      <th>1200807</th>\n",
       "      <td>Porto Acre</td>\n",
       "      <td>AC</td>\n",
       "      <td>Não Sabe</td>\n",
       "      <td>NaN</td>\n",
       "      <td>NaN</td>\n",
       "      <td>NaN</td>\n",
       "      <td>NaN</td>\n",
       "      <td>NaN</td>\n",
       "      <td>NaN</td>\n",
       "      <td>NaN</td>\n",
       "      <td>...</td>\n",
       "      <td>NaN</td>\n",
       "      <td>NaN</td>\n",
       "      <td>NaN</td>\n",
       "      <td>NaN</td>\n",
       "      <td>Outra secretaria municipal</td>\n",
       "      <td>NaN</td>\n",
       "      <td>Sem conhecimento</td>\n",
       "      <td>1.229113e+08</td>\n",
       "      <td>2022-08-11 20:41:01.286</td>\n",
       "      <td>2022-08-12 11:18:46.295</td>\n",
       "    </tr>\n",
       "    <tr>\n",
       "      <th>2700300</th>\n",
       "      <td>Arapiraca</td>\n",
       "      <td>AL</td>\n",
       "      <td>Sim</td>\n",
       "      <td>NaN</td>\n",
       "      <td>NaN</td>\n",
       "      <td>NaN</td>\n",
       "      <td>NaN</td>\n",
       "      <td>NaN</td>\n",
       "      <td>NaN</td>\n",
       "      <td>NaN</td>\n",
       "      <td>...</td>\n",
       "      <td>NaN</td>\n",
       "      <td>NaN</td>\n",
       "      <td>NaN</td>\n",
       "      <td>NaN</td>\n",
       "      <td>NaN</td>\n",
       "      <td>NaN</td>\n",
       "      <td>Não se aplica</td>\n",
       "      <td>4.907739e+09</td>\n",
       "      <td>2022-06-28 10:40:29.160</td>\n",
       "      <td>2022-08-12 11:18:46.295</td>\n",
       "    </tr>\n",
       "    <tr>\n",
       "      <th>2701357</th>\n",
       "      <td>Campestre</td>\n",
       "      <td>AL</td>\n",
       "      <td>Não Sabe</td>\n",
       "      <td>NaN</td>\n",
       "      <td>NaN</td>\n",
       "      <td>NaN</td>\n",
       "      <td>NaN</td>\n",
       "      <td>NaN</td>\n",
       "      <td>NaN</td>\n",
       "      <td>NaN</td>\n",
       "      <td>...</td>\n",
       "      <td>NaN</td>\n",
       "      <td>NaN</td>\n",
       "      <td>NaN</td>\n",
       "      <td>NaN</td>\n",
       "      <td>NaN</td>\n",
       "      <td>NaN</td>\n",
       "      <td>A formação de um setor responsável pelo SAN, q...</td>\n",
       "      <td>6.768952e+10</td>\n",
       "      <td>2022-08-04 09:49:59.911</td>\n",
       "      <td>2022-08-12 11:18:46.295</td>\n",
       "    </tr>\n",
       "    <tr>\n",
       "      <th>2701407</th>\n",
       "      <td>Campo Alegre</td>\n",
       "      <td>AL</td>\n",
       "      <td>Não Sabe</td>\n",
       "      <td>NaN</td>\n",
       "      <td>NaN</td>\n",
       "      <td>NaN</td>\n",
       "      <td>NaN</td>\n",
       "      <td>NaN</td>\n",
       "      <td>NaN</td>\n",
       "      <td>NaN</td>\n",
       "      <td>...</td>\n",
       "      <td>NaN</td>\n",
       "      <td>NaN</td>\n",
       "      <td>NaN</td>\n",
       "      <td>Consea Municipal</td>\n",
       "      <td>NaN</td>\n",
       "      <td>NaN</td>\n",
       "      <td>n</td>\n",
       "      <td>4.973591e+09</td>\n",
       "      <td>2022-07-15 15:20:57.728</td>\n",
       "      <td>2022-08-12 11:18:46.295</td>\n",
       "    </tr>\n",
       "    <tr>\n",
       "      <th>...</th>\n",
       "      <td>...</td>\n",
       "      <td>...</td>\n",
       "      <td>...</td>\n",
       "      <td>...</td>\n",
       "      <td>...</td>\n",
       "      <td>...</td>\n",
       "      <td>...</td>\n",
       "      <td>...</td>\n",
       "      <td>...</td>\n",
       "      <td>...</td>\n",
       "      <td>...</td>\n",
       "      <td>...</td>\n",
       "      <td>...</td>\n",
       "      <td>...</td>\n",
       "      <td>...</td>\n",
       "      <td>...</td>\n",
       "      <td>...</td>\n",
       "      <td>...</td>\n",
       "      <td>...</td>\n",
       "      <td>...</td>\n",
       "      <td>...</td>\n",
       "    </tr>\n",
       "    <tr>\n",
       "      <th>1721208</th>\n",
       "      <td>Tocantinópolis</td>\n",
       "      <td>TO</td>\n",
       "      <td>Não</td>\n",
       "      <td>NaN</td>\n",
       "      <td>NaN</td>\n",
       "      <td>NaN</td>\n",
       "      <td>NaN</td>\n",
       "      <td>NaN</td>\n",
       "      <td>NaN</td>\n",
       "      <td>NaN</td>\n",
       "      <td>...</td>\n",
       "      <td>NaN</td>\n",
       "      <td>NaN</td>\n",
       "      <td>NaN</td>\n",
       "      <td>Consea Municipal</td>\n",
       "      <td>NaN</td>\n",
       "      <td>NaN</td>\n",
       "      <td>Muito longo, e perguntas bastantes semelhantes</td>\n",
       "      <td>1.153638e+09</td>\n",
       "      <td>2022-07-19 10:49:34.838</td>\n",
       "      <td>2022-08-12 11:18:46.295</td>\n",
       "    </tr>\n",
       "    <tr>\n",
       "      <th>1721257</th>\n",
       "      <td>Tupirama</td>\n",
       "      <td>TO</td>\n",
       "      <td>Não Sabe</td>\n",
       "      <td>NaN</td>\n",
       "      <td>NaN</td>\n",
       "      <td>NaN</td>\n",
       "      <td>NaN</td>\n",
       "      <td>NaN</td>\n",
       "      <td>NaN</td>\n",
       "      <td>NaN</td>\n",
       "      <td>...</td>\n",
       "      <td>NaN</td>\n",
       "      <td>NaN</td>\n",
       "      <td>NaN</td>\n",
       "      <td>NaN</td>\n",
       "      <td>NaN</td>\n",
       "      <td>NaN</td>\n",
       "      <td>FALTA DE INFORMAÇAO</td>\n",
       "      <td>6.010254e+10</td>\n",
       "      <td>2022-08-05 10:35:03.180</td>\n",
       "      <td>2022-08-12 11:18:46.295</td>\n",
       "    </tr>\n",
       "    <tr>\n",
       "      <th>1721307</th>\n",
       "      <td>Tupiratins</td>\n",
       "      <td>TO</td>\n",
       "      <td>Não</td>\n",
       "      <td>NaN</td>\n",
       "      <td>NaN</td>\n",
       "      <td>NaN</td>\n",
       "      <td>NaN</td>\n",
       "      <td>NaN</td>\n",
       "      <td>NaN</td>\n",
       "      <td>NaN</td>\n",
       "      <td>...</td>\n",
       "      <td>NaN</td>\n",
       "      <td>NaN</td>\n",
       "      <td>NaN</td>\n",
       "      <td>Consea Municipal</td>\n",
       "      <td>NaN</td>\n",
       "      <td>NaN</td>\n",
       "      <td>dificuldade maior foi a falta de conhecimento ...</td>\n",
       "      <td>2.563845e+09</td>\n",
       "      <td>2022-06-30 08:04:40.652</td>\n",
       "      <td>2022-08-12 11:18:46.295</td>\n",
       "    </tr>\n",
       "    <tr>\n",
       "      <th>1722081</th>\n",
       "      <td>Wanderlândia</td>\n",
       "      <td>TO</td>\n",
       "      <td>Não</td>\n",
       "      <td>NaN</td>\n",
       "      <td>NaN</td>\n",
       "      <td>NaN</td>\n",
       "      <td>NaN</td>\n",
       "      <td>NaN</td>\n",
       "      <td>NaN</td>\n",
       "      <td>NaN</td>\n",
       "      <td>...</td>\n",
       "      <td>NaN</td>\n",
       "      <td>NaN</td>\n",
       "      <td>NaN</td>\n",
       "      <td>Consea Municipal</td>\n",
       "      <td>NaN</td>\n",
       "      <td>NaN</td>\n",
       "      <td>N A</td>\n",
       "      <td>5.656844e+10</td>\n",
       "      <td>2022-06-29 11:48:07.538</td>\n",
       "      <td>2022-08-12 11:18:46.295</td>\n",
       "    </tr>\n",
       "    <tr>\n",
       "      <th>1722107</th>\n",
       "      <td>Xambioá</td>\n",
       "      <td>TO</td>\n",
       "      <td>Não</td>\n",
       "      <td>NaN</td>\n",
       "      <td>NaN</td>\n",
       "      <td>NaN</td>\n",
       "      <td>NaN</td>\n",
       "      <td>NaN</td>\n",
       "      <td>NaN</td>\n",
       "      <td>NaN</td>\n",
       "      <td>...</td>\n",
       "      <td>NaN</td>\n",
       "      <td>NaN</td>\n",
       "      <td>NaN</td>\n",
       "      <td>Consea Municipal</td>\n",
       "      <td>NaN</td>\n",
       "      <td>NaN</td>\n",
       "      <td>ACESSO A DOCUMENTAÇÃO DE SAN</td>\n",
       "      <td>7.757520e+10</td>\n",
       "      <td>2022-07-15 16:09:22.804</td>\n",
       "      <td>2022-08-12 11:18:46.295</td>\n",
       "    </tr>\n",
       "  </tbody>\n",
       "</table>\n",
       "<p>1874 rows × 551 columns</p>\n",
       "</div>"
      ],
      "text/plain": [
       "                  nome_municipio  uf     v9043 v14072_2 v14072_4 v14072_6   \n",
       "codigo_municipio                                                            \n",
       "1200336              Mâncio Lima  AC  Não Sabe      NaN      NaN      NaN  \\\n",
       "1200807               Porto Acre  AC  Não Sabe      NaN      NaN      NaN   \n",
       "2700300                Arapiraca  AL       Sim      NaN      NaN      NaN   \n",
       "2701357                Campestre  AL  Não Sabe      NaN      NaN      NaN   \n",
       "2701407             Campo Alegre  AL  Não Sabe      NaN      NaN      NaN   \n",
       "...                          ...  ..       ...      ...      ...      ...   \n",
       "1721208           Tocantinópolis  TO       Não      NaN      NaN      NaN   \n",
       "1721257                 Tupirama  TO  Não Sabe      NaN      NaN      NaN   \n",
       "1721307               Tupiratins  TO       Não      NaN      NaN      NaN   \n",
       "1722081             Wanderlândia  TO       Não      NaN      NaN      NaN   \n",
       "1722107                  Xambioá  TO       Não      NaN      NaN      NaN   \n",
       "\n",
       "                 v14072_8 v14072_10 v14072_12 v14072_14  ... v14132_45   \n",
       "codigo_municipio                                         ...             \n",
       "1200336               NaN       NaN       NaN       NaN  ...       NaN  \\\n",
       "1200807               NaN       NaN       NaN       NaN  ...       NaN   \n",
       "2700300               NaN       NaN       NaN       NaN  ...       NaN   \n",
       "2701357               NaN       NaN       NaN       NaN  ...       NaN   \n",
       "2701407               NaN       NaN       NaN       NaN  ...       NaN   \n",
       "...                   ...       ...       ...       ...  ...       ...   \n",
       "1721208               NaN       NaN       NaN       NaN  ...       NaN   \n",
       "1721257               NaN       NaN       NaN       NaN  ...       NaN   \n",
       "1721307               NaN       NaN       NaN       NaN  ...       NaN   \n",
       "1722081               NaN       NaN       NaN       NaN  ...       NaN   \n",
       "1722107               NaN       NaN       NaN       NaN  ...       NaN   \n",
       "\n",
       "                 v14132_50 v14132_55         v14132_60   \n",
       "codigo_municipio                                         \n",
       "1200336                NaN       NaN               NaN  \\\n",
       "1200807                NaN       NaN               NaN   \n",
       "2700300                NaN       NaN               NaN   \n",
       "2701357                NaN       NaN               NaN   \n",
       "2701407                NaN       NaN  Consea Municipal   \n",
       "...                    ...       ...               ...   \n",
       "1721208                NaN       NaN  Consea Municipal   \n",
       "1721257                NaN       NaN               NaN   \n",
       "1721307                NaN       NaN  Consea Municipal   \n",
       "1722081                NaN       NaN  Consea Municipal   \n",
       "1722107                NaN       NaN  Consea Municipal   \n",
       "\n",
       "                                   v14132_98 v14132_97   \n",
       "codigo_municipio                                         \n",
       "1200336                                  NaN       NaN  \\\n",
       "1200807           Outra secretaria municipal       NaN   \n",
       "2700300                                  NaN       NaN   \n",
       "2701357                                  NaN       NaN   \n",
       "2701407                                  NaN       NaN   \n",
       "...                                      ...       ...   \n",
       "1721208                                  NaN       NaN   \n",
       "1721257                                  NaN       NaN   \n",
       "1721307                                  NaN       NaN   \n",
       "1722081                                  NaN       NaN   \n",
       "1722107                                  NaN       NaN   \n",
       "\n",
       "                                                             v14133   \n",
       "codigo_municipio                                                      \n",
       "1200336                                                    Nenhuma.  \\\n",
       "1200807                                           Sem conhecimento    \n",
       "2700300                                               Não se aplica   \n",
       "2701357           A formação de um setor responsável pelo SAN, q...   \n",
       "2701407                                                           n   \n",
       "...                                                             ...   \n",
       "1721208              Muito longo, e perguntas bastantes semelhantes   \n",
       "1721257                                         FALTA DE INFORMAÇAO   \n",
       "1721307           dificuldade maior foi a falta de conhecimento ...   \n",
       "1722081                                                         N A   \n",
       "1722107                                ACESSO A DOCUMENTAÇÃO DE SAN   \n",
       "\n",
       "                       usuario data_hora_preenchimento      data_hora_extracao  \n",
       "codigo_municipio                                                                \n",
       "1200336           5.407811e+09 2022-07-27 12:12:28.690 2022-08-12 11:18:46.295  \n",
       "1200807           1.229113e+08 2022-08-11 20:41:01.286 2022-08-12 11:18:46.295  \n",
       "2700300           4.907739e+09 2022-06-28 10:40:29.160 2022-08-12 11:18:46.295  \n",
       "2701357           6.768952e+10 2022-08-04 09:49:59.911 2022-08-12 11:18:46.295  \n",
       "2701407           4.973591e+09 2022-07-15 15:20:57.728 2022-08-12 11:18:46.295  \n",
       "...                        ...                     ...                     ...  \n",
       "1721208           1.153638e+09 2022-07-19 10:49:34.838 2022-08-12 11:18:46.295  \n",
       "1721257           6.010254e+10 2022-08-05 10:35:03.180 2022-08-12 11:18:46.295  \n",
       "1721307           2.563845e+09 2022-06-30 08:04:40.652 2022-08-12 11:18:46.295  \n",
       "1722081           5.656844e+10 2022-06-29 11:48:07.538 2022-08-12 11:18:46.295  \n",
       "1722107           7.757520e+10 2022-07-15 16:09:22.804 2022-08-12 11:18:46.295  \n",
       "\n",
       "[1874 rows x 551 columns]"
      ]
     },
     "execution_count": 183,
     "metadata": {},
     "output_type": "execute_result"
    }
   ],
   "source": [
    "file = \"./Municipal/Respostas/Formulario_3_ok.xlsx\"\n",
    "df = pd.read_excel(file, header = 0, index_col=0)\n",
    "df"
   ]
  },
  {
   "cell_type": "code",
   "execution_count": 184,
   "metadata": {},
   "outputs": [],
   "source": [
    "df.drop(['nome_municipio', 'uf'], axis = 1, inplace=True)"
   ]
  },
  {
   "cell_type": "code",
   "execution_count": 185,
   "metadata": {},
   "outputs": [
    {
     "data": {
      "text/html": [
       "<div>\n",
       "<style scoped>\n",
       "    .dataframe tbody tr th:only-of-type {\n",
       "        vertical-align: middle;\n",
       "    }\n",
       "\n",
       "    .dataframe tbody tr th {\n",
       "        vertical-align: top;\n",
       "    }\n",
       "\n",
       "    .dataframe thead th {\n",
       "        text-align: right;\n",
       "    }\n",
       "</style>\n",
       "<table border=\"1\" class=\"dataframe\">\n",
       "  <thead>\n",
       "    <tr style=\"text-align: right;\">\n",
       "      <th></th>\n",
       "      <th>Região</th>\n",
       "      <th>UF</th>\n",
       "      <th>COD. UF</th>\n",
       "      <th>COD. MUNIC</th>\n",
       "      <th>CODIGO7</th>\n",
       "      <th>CODIGO6</th>\n",
       "      <th>NOME DO MUNICÍPIO</th>\n",
       "      <th>POPULAÇÃO ESTIMADA</th>\n",
       "      <th>Porte populacional IBGE</th>\n",
       "      <th>Porte Populacional II</th>\n",
       "    </tr>\n",
       "  </thead>\n",
       "  <tbody>\n",
       "    <tr>\n",
       "      <th>0</th>\n",
       "      <td>Norte</td>\n",
       "      <td>RO</td>\n",
       "      <td>11</td>\n",
       "      <td>15</td>\n",
       "      <td>1100015</td>\n",
       "      <td>110001</td>\n",
       "      <td>Alta Floresta D'Oeste</td>\n",
       "      <td>22516</td>\n",
       "      <td>De 20.001 até 50.000</td>\n",
       "      <td>Até 50.000</td>\n",
       "    </tr>\n",
       "    <tr>\n",
       "      <th>1</th>\n",
       "      <td>Norte</td>\n",
       "      <td>RO</td>\n",
       "      <td>11</td>\n",
       "      <td>23</td>\n",
       "      <td>1100023</td>\n",
       "      <td>110002</td>\n",
       "      <td>Ariquemes</td>\n",
       "      <td>111148</td>\n",
       "      <td>De 100.001 até 500.000</td>\n",
       "      <td>De 100.001 até 200.000</td>\n",
       "    </tr>\n",
       "    <tr>\n",
       "      <th>2</th>\n",
       "      <td>Norte</td>\n",
       "      <td>RO</td>\n",
       "      <td>11</td>\n",
       "      <td>31</td>\n",
       "      <td>1100031</td>\n",
       "      <td>110003</td>\n",
       "      <td>Cabixi</td>\n",
       "      <td>5067</td>\n",
       "      <td>De 5.001 até 10.000</td>\n",
       "      <td>Até 50.000</td>\n",
       "    </tr>\n",
       "    <tr>\n",
       "      <th>3</th>\n",
       "      <td>Norte</td>\n",
       "      <td>RO</td>\n",
       "      <td>11</td>\n",
       "      <td>49</td>\n",
       "      <td>1100049</td>\n",
       "      <td>110004</td>\n",
       "      <td>Cacoal</td>\n",
       "      <td>86416</td>\n",
       "      <td>De 50.001 até 100.000</td>\n",
       "      <td>De 50.001 até 100.000</td>\n",
       "    </tr>\n",
       "    <tr>\n",
       "      <th>4</th>\n",
       "      <td>Norte</td>\n",
       "      <td>RO</td>\n",
       "      <td>11</td>\n",
       "      <td>56</td>\n",
       "      <td>1100056</td>\n",
       "      <td>110005</td>\n",
       "      <td>Cerejeiras</td>\n",
       "      <td>16088</td>\n",
       "      <td>De 10.001 até 20.000</td>\n",
       "      <td>Até 50.000</td>\n",
       "    </tr>\n",
       "    <tr>\n",
       "      <th>...</th>\n",
       "      <td>...</td>\n",
       "      <td>...</td>\n",
       "      <td>...</td>\n",
       "      <td>...</td>\n",
       "      <td>...</td>\n",
       "      <td>...</td>\n",
       "      <td>...</td>\n",
       "      <td>...</td>\n",
       "      <td>...</td>\n",
       "      <td>...</td>\n",
       "    </tr>\n",
       "    <tr>\n",
       "      <th>5565</th>\n",
       "      <td>Centro-Oeste</td>\n",
       "      <td>GO</td>\n",
       "      <td>52</td>\n",
       "      <td>22005</td>\n",
       "      <td>5222005</td>\n",
       "      <td>522200</td>\n",
       "      <td>Vianópolis</td>\n",
       "      <td>14088</td>\n",
       "      <td>De 10.001 até 20.000</td>\n",
       "      <td>Até 50.000</td>\n",
       "    </tr>\n",
       "    <tr>\n",
       "      <th>5566</th>\n",
       "      <td>Centro-Oeste</td>\n",
       "      <td>GO</td>\n",
       "      <td>52</td>\n",
       "      <td>22054</td>\n",
       "      <td>5222054</td>\n",
       "      <td>522205</td>\n",
       "      <td>Vicentinópolis</td>\n",
       "      <td>9002</td>\n",
       "      <td>De 5.001 até 10.000</td>\n",
       "      <td>Até 50.000</td>\n",
       "    </tr>\n",
       "    <tr>\n",
       "      <th>5567</th>\n",
       "      <td>Centro-Oeste</td>\n",
       "      <td>GO</td>\n",
       "      <td>52</td>\n",
       "      <td>22203</td>\n",
       "      <td>5222203</td>\n",
       "      <td>522220</td>\n",
       "      <td>Vila Boa</td>\n",
       "      <td>6451</td>\n",
       "      <td>De 5.001 até 10.000</td>\n",
       "      <td>Até 50.000</td>\n",
       "    </tr>\n",
       "    <tr>\n",
       "      <th>5568</th>\n",
       "      <td>Centro-Oeste</td>\n",
       "      <td>GO</td>\n",
       "      <td>52</td>\n",
       "      <td>22302</td>\n",
       "      <td>5222302</td>\n",
       "      <td>522230</td>\n",
       "      <td>Vila Propício</td>\n",
       "      <td>5941</td>\n",
       "      <td>De 5.001 até 10.000</td>\n",
       "      <td>Até 50.000</td>\n",
       "    </tr>\n",
       "    <tr>\n",
       "      <th>5569</th>\n",
       "      <td>Centro-Oeste</td>\n",
       "      <td>DF</td>\n",
       "      <td>53</td>\n",
       "      <td>108</td>\n",
       "      <td>5300108</td>\n",
       "      <td>530010</td>\n",
       "      <td>Brasília</td>\n",
       "      <td>3094325</td>\n",
       "      <td>Mais de 500.000</td>\n",
       "      <td>Mais de 500.000</td>\n",
       "    </tr>\n",
       "  </tbody>\n",
       "</table>\n",
       "<p>5570 rows × 10 columns</p>\n",
       "</div>"
      ],
      "text/plain": [
       "            Região  UF  COD. UF  COD. MUNIC  CODIGO7  CODIGO6   \n",
       "0            Norte  RO       11          15  1100015   110001  \\\n",
       "1            Norte  RO       11          23  1100023   110002   \n",
       "2            Norte  RO       11          31  1100031   110003   \n",
       "3            Norte  RO       11          49  1100049   110004   \n",
       "4            Norte  RO       11          56  1100056   110005   \n",
       "...            ...  ..      ...         ...      ...      ...   \n",
       "5565  Centro-Oeste  GO       52       22005  5222005   522200   \n",
       "5566  Centro-Oeste  GO       52       22054  5222054   522205   \n",
       "5567  Centro-Oeste  GO       52       22203  5222203   522220   \n",
       "5568  Centro-Oeste  GO       52       22302  5222302   522230   \n",
       "5569  Centro-Oeste  DF       53         108  5300108   530010   \n",
       "\n",
       "          NOME DO MUNICÍPIO  POPULAÇÃO ESTIMADA Porte populacional IBGE   \n",
       "0     Alta Floresta D'Oeste               22516    De 20.001 até 50.000  \\\n",
       "1                 Ariquemes              111148  De 100.001 até 500.000   \n",
       "2                    Cabixi                5067     De 5.001 até 10.000   \n",
       "3                    Cacoal               86416   De 50.001 até 100.000   \n",
       "4                Cerejeiras               16088    De 10.001 até 20.000   \n",
       "...                     ...                 ...                     ...   \n",
       "5565             Vianópolis               14088    De 10.001 até 20.000   \n",
       "5566         Vicentinópolis                9002     De 5.001 até 10.000   \n",
       "5567               Vila Boa                6451     De 5.001 até 10.000   \n",
       "5568          Vila Propício                5941     De 5.001 até 10.000   \n",
       "5569               Brasília             3094325         Mais de 500.000   \n",
       "\n",
       "       Porte Populacional II  \n",
       "0                 Até 50.000  \n",
       "1     De 100.001 até 200.000  \n",
       "2                 Até 50.000  \n",
       "3      De 50.001 até 100.000  \n",
       "4                 Até 50.000  \n",
       "...                      ...  \n",
       "5565              Até 50.000  \n",
       "5566              Até 50.000  \n",
       "5567              Até 50.000  \n",
       "5568              Até 50.000  \n",
       "5569         Mais de 500.000  \n",
       "\n",
       "[5570 rows x 10 columns]"
      ]
     },
     "execution_count": 185,
     "metadata": {},
     "output_type": "execute_result"
    }
   ],
   "source": [
    "file = 'estimativa_dou_2021.xls'\n",
    "df_mun = pd.read_excel(file)\n",
    "df_mun"
   ]
  },
  {
   "cell_type": "code",
   "execution_count": 186,
   "metadata": {},
   "outputs": [],
   "source": [
    "df_mun.drop('CODIGO6', axis=1, inplace=True)"
   ]
  },
  {
   "cell_type": "code",
   "execution_count": 187,
   "metadata": {},
   "outputs": [],
   "source": [
    "df_mun.drop('COD. MUNIC', axis=1, inplace=True)"
   ]
  },
  {
   "cell_type": "code",
   "execution_count": 188,
   "metadata": {},
   "outputs": [
    {
     "data": {
      "text/html": [
       "<div>\n",
       "<style scoped>\n",
       "    .dataframe tbody tr th:only-of-type {\n",
       "        vertical-align: middle;\n",
       "    }\n",
       "\n",
       "    .dataframe tbody tr th {\n",
       "        vertical-align: top;\n",
       "    }\n",
       "\n",
       "    .dataframe thead th {\n",
       "        text-align: right;\n",
       "    }\n",
       "</style>\n",
       "<table border=\"1\" class=\"dataframe\">\n",
       "  <thead>\n",
       "    <tr style=\"text-align: right;\">\n",
       "      <th></th>\n",
       "      <th>Região</th>\n",
       "      <th>UF</th>\n",
       "      <th>COD. UF</th>\n",
       "      <th>CODIGO7</th>\n",
       "      <th>NOME DO MUNICÍPIO</th>\n",
       "      <th>POPULAÇÃO ESTIMADA</th>\n",
       "      <th>Porte populacional IBGE</th>\n",
       "      <th>Porte Populacional II</th>\n",
       "    </tr>\n",
       "  </thead>\n",
       "  <tbody>\n",
       "    <tr>\n",
       "      <th>0</th>\n",
       "      <td>Norte</td>\n",
       "      <td>RO</td>\n",
       "      <td>11</td>\n",
       "      <td>1100015</td>\n",
       "      <td>Alta Floresta D'Oeste</td>\n",
       "      <td>22516</td>\n",
       "      <td>De 20.001 até 50.000</td>\n",
       "      <td>Até 50.000</td>\n",
       "    </tr>\n",
       "    <tr>\n",
       "      <th>1</th>\n",
       "      <td>Norte</td>\n",
       "      <td>RO</td>\n",
       "      <td>11</td>\n",
       "      <td>1100023</td>\n",
       "      <td>Ariquemes</td>\n",
       "      <td>111148</td>\n",
       "      <td>De 100.001 até 500.000</td>\n",
       "      <td>De 100.001 até 200.000</td>\n",
       "    </tr>\n",
       "    <tr>\n",
       "      <th>2</th>\n",
       "      <td>Norte</td>\n",
       "      <td>RO</td>\n",
       "      <td>11</td>\n",
       "      <td>1100031</td>\n",
       "      <td>Cabixi</td>\n",
       "      <td>5067</td>\n",
       "      <td>De 5.001 até 10.000</td>\n",
       "      <td>Até 50.000</td>\n",
       "    </tr>\n",
       "    <tr>\n",
       "      <th>3</th>\n",
       "      <td>Norte</td>\n",
       "      <td>RO</td>\n",
       "      <td>11</td>\n",
       "      <td>1100049</td>\n",
       "      <td>Cacoal</td>\n",
       "      <td>86416</td>\n",
       "      <td>De 50.001 até 100.000</td>\n",
       "      <td>De 50.001 até 100.000</td>\n",
       "    </tr>\n",
       "    <tr>\n",
       "      <th>4</th>\n",
       "      <td>Norte</td>\n",
       "      <td>RO</td>\n",
       "      <td>11</td>\n",
       "      <td>1100056</td>\n",
       "      <td>Cerejeiras</td>\n",
       "      <td>16088</td>\n",
       "      <td>De 10.001 até 20.000</td>\n",
       "      <td>Até 50.000</td>\n",
       "    </tr>\n",
       "    <tr>\n",
       "      <th>...</th>\n",
       "      <td>...</td>\n",
       "      <td>...</td>\n",
       "      <td>...</td>\n",
       "      <td>...</td>\n",
       "      <td>...</td>\n",
       "      <td>...</td>\n",
       "      <td>...</td>\n",
       "      <td>...</td>\n",
       "    </tr>\n",
       "    <tr>\n",
       "      <th>5565</th>\n",
       "      <td>Centro-Oeste</td>\n",
       "      <td>GO</td>\n",
       "      <td>52</td>\n",
       "      <td>5222005</td>\n",
       "      <td>Vianópolis</td>\n",
       "      <td>14088</td>\n",
       "      <td>De 10.001 até 20.000</td>\n",
       "      <td>Até 50.000</td>\n",
       "    </tr>\n",
       "    <tr>\n",
       "      <th>5566</th>\n",
       "      <td>Centro-Oeste</td>\n",
       "      <td>GO</td>\n",
       "      <td>52</td>\n",
       "      <td>5222054</td>\n",
       "      <td>Vicentinópolis</td>\n",
       "      <td>9002</td>\n",
       "      <td>De 5.001 até 10.000</td>\n",
       "      <td>Até 50.000</td>\n",
       "    </tr>\n",
       "    <tr>\n",
       "      <th>5567</th>\n",
       "      <td>Centro-Oeste</td>\n",
       "      <td>GO</td>\n",
       "      <td>52</td>\n",
       "      <td>5222203</td>\n",
       "      <td>Vila Boa</td>\n",
       "      <td>6451</td>\n",
       "      <td>De 5.001 até 10.000</td>\n",
       "      <td>Até 50.000</td>\n",
       "    </tr>\n",
       "    <tr>\n",
       "      <th>5568</th>\n",
       "      <td>Centro-Oeste</td>\n",
       "      <td>GO</td>\n",
       "      <td>52</td>\n",
       "      <td>5222302</td>\n",
       "      <td>Vila Propício</td>\n",
       "      <td>5941</td>\n",
       "      <td>De 5.001 até 10.000</td>\n",
       "      <td>Até 50.000</td>\n",
       "    </tr>\n",
       "    <tr>\n",
       "      <th>5569</th>\n",
       "      <td>Centro-Oeste</td>\n",
       "      <td>DF</td>\n",
       "      <td>53</td>\n",
       "      <td>5300108</td>\n",
       "      <td>Brasília</td>\n",
       "      <td>3094325</td>\n",
       "      <td>Mais de 500.000</td>\n",
       "      <td>Mais de 500.000</td>\n",
       "    </tr>\n",
       "  </tbody>\n",
       "</table>\n",
       "<p>5570 rows × 8 columns</p>\n",
       "</div>"
      ],
      "text/plain": [
       "            Região  UF  COD. UF  CODIGO7      NOME DO MUNICÍPIO   \n",
       "0            Norte  RO       11  1100015  Alta Floresta D'Oeste  \\\n",
       "1            Norte  RO       11  1100023              Ariquemes   \n",
       "2            Norte  RO       11  1100031                 Cabixi   \n",
       "3            Norte  RO       11  1100049                 Cacoal   \n",
       "4            Norte  RO       11  1100056             Cerejeiras   \n",
       "...            ...  ..      ...      ...                    ...   \n",
       "5565  Centro-Oeste  GO       52  5222005             Vianópolis   \n",
       "5566  Centro-Oeste  GO       52  5222054         Vicentinópolis   \n",
       "5567  Centro-Oeste  GO       52  5222203               Vila Boa   \n",
       "5568  Centro-Oeste  GO       52  5222302          Vila Propício   \n",
       "5569  Centro-Oeste  DF       53  5300108               Brasília   \n",
       "\n",
       "      POPULAÇÃO ESTIMADA Porte populacional IBGE   Porte Populacional II  \n",
       "0                  22516    De 20.001 até 50.000              Até 50.000  \n",
       "1                 111148  De 100.001 até 500.000  De 100.001 até 200.000  \n",
       "2                   5067     De 5.001 até 10.000              Até 50.000  \n",
       "3                  86416   De 50.001 até 100.000   De 50.001 até 100.000  \n",
       "4                  16088    De 10.001 até 20.000              Até 50.000  \n",
       "...                  ...                     ...                     ...  \n",
       "5565               14088    De 10.001 até 20.000              Até 50.000  \n",
       "5566                9002     De 5.001 até 10.000              Até 50.000  \n",
       "5567                6451     De 5.001 até 10.000              Até 50.000  \n",
       "5568                5941     De 5.001 até 10.000              Até 50.000  \n",
       "5569             3094325         Mais de 500.000         Mais de 500.000  \n",
       "\n",
       "[5570 rows x 8 columns]"
      ]
     },
     "execution_count": 188,
     "metadata": {},
     "output_type": "execute_result"
    }
   ],
   "source": [
    "df_mun"
   ]
  },
  {
   "cell_type": "code",
   "execution_count": 189,
   "metadata": {},
   "outputs": [],
   "source": [
    "df_mun.columns = ['regiao', 'uf', 'codigo_uf', 'codigo_municipio', 'municipio', 'populacao_estimada', 'porte_pop_ibge', 'porte_pop_sisan']\n"
   ]
  },
  {
   "cell_type": "code",
   "execution_count": 190,
   "metadata": {},
   "outputs": [],
   "source": [
    "df_mun = df_mun.set_index('codigo_municipio')"
   ]
  },
  {
   "cell_type": "code",
   "execution_count": 191,
   "metadata": {},
   "outputs": [],
   "source": [
    "df = pd.merge(df_mun, df, left_index=True, right_index=True, how='inner')"
   ]
  },
  {
   "cell_type": "code",
   "execution_count": 192,
   "metadata": {},
   "outputs": [
    {
     "data": {
      "text/html": [
       "<div>\n",
       "<style scoped>\n",
       "    .dataframe tbody tr th:only-of-type {\n",
       "        vertical-align: middle;\n",
       "    }\n",
       "\n",
       "    .dataframe tbody tr th {\n",
       "        vertical-align: top;\n",
       "    }\n",
       "\n",
       "    .dataframe thead th {\n",
       "        text-align: right;\n",
       "    }\n",
       "</style>\n",
       "<table border=\"1\" class=\"dataframe\">\n",
       "  <thead>\n",
       "    <tr style=\"text-align: right;\">\n",
       "      <th></th>\n",
       "      <th>regiao</th>\n",
       "      <th>uf</th>\n",
       "      <th>codigo_uf</th>\n",
       "      <th>municipio</th>\n",
       "      <th>populacao_estimada</th>\n",
       "      <th>porte_pop_ibge</th>\n",
       "      <th>porte_pop_sisan</th>\n",
       "      <th>v9043</th>\n",
       "      <th>v14072_2</th>\n",
       "      <th>v14072_4</th>\n",
       "      <th>...</th>\n",
       "      <th>v14132_45</th>\n",
       "      <th>v14132_50</th>\n",
       "      <th>v14132_55</th>\n",
       "      <th>v14132_60</th>\n",
       "      <th>v14132_98</th>\n",
       "      <th>v14132_97</th>\n",
       "      <th>v14133</th>\n",
       "      <th>usuario</th>\n",
       "      <th>data_hora_preenchimento</th>\n",
       "      <th>data_hora_extracao</th>\n",
       "    </tr>\n",
       "    <tr>\n",
       "      <th>codigo_municipio</th>\n",
       "      <th></th>\n",
       "      <th></th>\n",
       "      <th></th>\n",
       "      <th></th>\n",
       "      <th></th>\n",
       "      <th></th>\n",
       "      <th></th>\n",
       "      <th></th>\n",
       "      <th></th>\n",
       "      <th></th>\n",
       "      <th></th>\n",
       "      <th></th>\n",
       "      <th></th>\n",
       "      <th></th>\n",
       "      <th></th>\n",
       "      <th></th>\n",
       "      <th></th>\n",
       "      <th></th>\n",
       "      <th></th>\n",
       "      <th></th>\n",
       "      <th></th>\n",
       "    </tr>\n",
       "  </thead>\n",
       "  <tbody>\n",
       "    <tr>\n",
       "      <th>1100205</th>\n",
       "      <td>Norte</td>\n",
       "      <td>RO</td>\n",
       "      <td>11</td>\n",
       "      <td>Porto Velho</td>\n",
       "      <td>548952</td>\n",
       "      <td>Mais de 500.000</td>\n",
       "      <td>Mais de 500.000</td>\n",
       "      <td>Sim</td>\n",
       "      <td>NaN</td>\n",
       "      <td>Ações de garantia dos direitos socioassistenciais</td>\n",
       "      <td>...</td>\n",
       "      <td>NaN</td>\n",
       "      <td>NaN</td>\n",
       "      <td>NaN</td>\n",
       "      <td>NaN</td>\n",
       "      <td>NaN</td>\n",
       "      <td>NaN</td>\n",
       "      <td>ações pulverizadas de SAN no município sem uma...</td>\n",
       "      <td>2.094308e+09</td>\n",
       "      <td>2022-07-27 11:29:42.909</td>\n",
       "      <td>2022-08-12 11:18:46.295</td>\n",
       "    </tr>\n",
       "    <tr>\n",
       "      <th>1100262</th>\n",
       "      <td>Norte</td>\n",
       "      <td>RO</td>\n",
       "      <td>11</td>\n",
       "      <td>Rio Crespo</td>\n",
       "      <td>3843</td>\n",
       "      <td>Até 5.000</td>\n",
       "      <td>Até 50.000</td>\n",
       "      <td>Não Sabe</td>\n",
       "      <td>NaN</td>\n",
       "      <td>NaN</td>\n",
       "      <td>...</td>\n",
       "      <td>NaN</td>\n",
       "      <td>NaN</td>\n",
       "      <td>NaN</td>\n",
       "      <td>NaN</td>\n",
       "      <td>NaN</td>\n",
       "      <td>NaN</td>\n",
       "      <td>ALGUMAS FOI A FALTA DE INFORMAÇÕES</td>\n",
       "      <td>7.649490e+10</td>\n",
       "      <td>2022-07-28 11:02:03.671</td>\n",
       "      <td>2022-08-12 11:18:46.295</td>\n",
       "    </tr>\n",
       "    <tr>\n",
       "      <th>1100304</th>\n",
       "      <td>Norte</td>\n",
       "      <td>RO</td>\n",
       "      <td>11</td>\n",
       "      <td>Vilhena</td>\n",
       "      <td>104517</td>\n",
       "      <td>De 50.001 até 100.000</td>\n",
       "      <td>De 50.001 até 100.000</td>\n",
       "      <td>Sim</td>\n",
       "      <td>Ações de saúde, alimentação e nutrição</td>\n",
       "      <td>NaN</td>\n",
       "      <td>...</td>\n",
       "      <td>NaN</td>\n",
       "      <td>NaN</td>\n",
       "      <td>NaN</td>\n",
       "      <td>NaN</td>\n",
       "      <td>NaN</td>\n",
       "      <td>NaN</td>\n",
       "      <td>Dificuldade por ser um questionário intersetor...</td>\n",
       "      <td>8.000165e+10</td>\n",
       "      <td>2022-07-28 13:49:27.810</td>\n",
       "      <td>2022-08-12 11:18:46.295</td>\n",
       "    </tr>\n",
       "    <tr>\n",
       "      <th>1100809</th>\n",
       "      <td>Norte</td>\n",
       "      <td>RO</td>\n",
       "      <td>11</td>\n",
       "      <td>Candeias do Jamari</td>\n",
       "      <td>28068</td>\n",
       "      <td>De 20.001 até 50.000</td>\n",
       "      <td>Até 50.000</td>\n",
       "      <td>Não</td>\n",
       "      <td>NaN</td>\n",
       "      <td>NaN</td>\n",
       "      <td>...</td>\n",
       "      <td>NaN</td>\n",
       "      <td>NaN</td>\n",
       "      <td>NaN</td>\n",
       "      <td>NaN</td>\n",
       "      <td>NaN</td>\n",
       "      <td>NaN</td>\n",
       "      <td>Tempo.</td>\n",
       "      <td>9.594977e+10</td>\n",
       "      <td>2022-08-05 11:16:16.441</td>\n",
       "      <td>2022-08-12 11:18:46.295</td>\n",
       "    </tr>\n",
       "    <tr>\n",
       "      <th>1200336</th>\n",
       "      <td>Norte</td>\n",
       "      <td>AC</td>\n",
       "      <td>12</td>\n",
       "      <td>Mâncio Lima</td>\n",
       "      <td>19643</td>\n",
       "      <td>De 10.001 até 20.000</td>\n",
       "      <td>Até 50.000</td>\n",
       "      <td>Não Sabe</td>\n",
       "      <td>NaN</td>\n",
       "      <td>NaN</td>\n",
       "      <td>...</td>\n",
       "      <td>NaN</td>\n",
       "      <td>NaN</td>\n",
       "      <td>NaN</td>\n",
       "      <td>NaN</td>\n",
       "      <td>NaN</td>\n",
       "      <td>NaN</td>\n",
       "      <td>Nenhuma.</td>\n",
       "      <td>5.407811e+09</td>\n",
       "      <td>2022-07-27 12:12:28.690</td>\n",
       "      <td>2022-08-12 11:18:46.295</td>\n",
       "    </tr>\n",
       "    <tr>\n",
       "      <th>...</th>\n",
       "      <td>...</td>\n",
       "      <td>...</td>\n",
       "      <td>...</td>\n",
       "      <td>...</td>\n",
       "      <td>...</td>\n",
       "      <td>...</td>\n",
       "      <td>...</td>\n",
       "      <td>...</td>\n",
       "      <td>...</td>\n",
       "      <td>...</td>\n",
       "      <td>...</td>\n",
       "      <td>...</td>\n",
       "      <td>...</td>\n",
       "      <td>...</td>\n",
       "      <td>...</td>\n",
       "      <td>...</td>\n",
       "      <td>...</td>\n",
       "      <td>...</td>\n",
       "      <td>...</td>\n",
       "      <td>...</td>\n",
       "      <td>...</td>\n",
       "    </tr>\n",
       "    <tr>\n",
       "      <th>5220157</th>\n",
       "      <td>Centro-Oeste</td>\n",
       "      <td>GO</td>\n",
       "      <td>52</td>\n",
       "      <td>São Luiz do Norte</td>\n",
       "      <td>5263</td>\n",
       "      <td>De 5.001 até 10.000</td>\n",
       "      <td>Até 50.000</td>\n",
       "      <td>Não Sabe</td>\n",
       "      <td>NaN</td>\n",
       "      <td>NaN</td>\n",
       "      <td>...</td>\n",
       "      <td>NaN</td>\n",
       "      <td>NaN</td>\n",
       "      <td>NaN</td>\n",
       "      <td>NaN</td>\n",
       "      <td>NaN</td>\n",
       "      <td>NaN</td>\n",
       "      <td>banco de dados</td>\n",
       "      <td>8.006421e+10</td>\n",
       "      <td>2022-08-04 08:43:32.753</td>\n",
       "      <td>2022-08-12 11:18:46.295</td>\n",
       "    </tr>\n",
       "    <tr>\n",
       "      <th>5220454</th>\n",
       "      <td>Centro-Oeste</td>\n",
       "      <td>GO</td>\n",
       "      <td>52</td>\n",
       "      <td>Senador Canedo</td>\n",
       "      <td>121447</td>\n",
       "      <td>De 100.001 até 500.000</td>\n",
       "      <td>De 100.001 até 200.000</td>\n",
       "      <td>Sim</td>\n",
       "      <td>NaN</td>\n",
       "      <td>Ações de garantia dos direitos socioassistenciais</td>\n",
       "      <td>...</td>\n",
       "      <td>NaN</td>\n",
       "      <td>NaN</td>\n",
       "      <td>NaN</td>\n",
       "      <td>NaN</td>\n",
       "      <td>NaN</td>\n",
       "      <td>NaN</td>\n",
       "      <td>ausência do município na adesão e regulamentaç...</td>\n",
       "      <td>9.458601e+08</td>\n",
       "      <td>2022-07-13 10:12:51.896</td>\n",
       "      <td>2022-08-12 11:18:46.295</td>\n",
       "    </tr>\n",
       "    <tr>\n",
       "      <th>5221700</th>\n",
       "      <td>Centro-Oeste</td>\n",
       "      <td>GO</td>\n",
       "      <td>52</td>\n",
       "      <td>Uruana</td>\n",
       "      <td>13795</td>\n",
       "      <td>De 10.001 até 20.000</td>\n",
       "      <td>Até 50.000</td>\n",
       "      <td>Sim</td>\n",
       "      <td>Ações de saúde, alimentação e nutrição</td>\n",
       "      <td>Ações de garantia dos direitos socioassistenciais</td>\n",
       "      <td>...</td>\n",
       "      <td>NaN</td>\n",
       "      <td>NaN</td>\n",
       "      <td>NaN</td>\n",
       "      <td>NaN</td>\n",
       "      <td>NaN</td>\n",
       "      <td>NaN</td>\n",
       "      <td>FALTA DE INFORMAÇÕES  SOBRE  TODAS OS OBJETIVO...</td>\n",
       "      <td>9.555831e+08</td>\n",
       "      <td>2022-07-21 11:46:30.010</td>\n",
       "      <td>2022-08-12 11:18:46.295</td>\n",
       "    </tr>\n",
       "    <tr>\n",
       "      <th>5221858</th>\n",
       "      <td>Centro-Oeste</td>\n",
       "      <td>GO</td>\n",
       "      <td>52</td>\n",
       "      <td>Valparaíso de Goiás</td>\n",
       "      <td>175720</td>\n",
       "      <td>De 100.001 até 500.000</td>\n",
       "      <td>De 100.001 até 200.000</td>\n",
       "      <td>Não</td>\n",
       "      <td>NaN</td>\n",
       "      <td>NaN</td>\n",
       "      <td>...</td>\n",
       "      <td>NaN</td>\n",
       "      <td>NaN</td>\n",
       "      <td>NaN</td>\n",
       "      <td>NaN</td>\n",
       "      <td>NaN</td>\n",
       "      <td>NaN</td>\n",
       "      <td>Nenhuma</td>\n",
       "      <td>7.868874e+10</td>\n",
       "      <td>2022-07-25 09:48:01.723</td>\n",
       "      <td>2022-08-12 11:18:46.295</td>\n",
       "    </tr>\n",
       "    <tr>\n",
       "      <th>5222005</th>\n",
       "      <td>Centro-Oeste</td>\n",
       "      <td>GO</td>\n",
       "      <td>52</td>\n",
       "      <td>Vianópolis</td>\n",
       "      <td>14088</td>\n",
       "      <td>De 10.001 até 20.000</td>\n",
       "      <td>Até 50.000</td>\n",
       "      <td>Não Sabe</td>\n",
       "      <td>NaN</td>\n",
       "      <td>NaN</td>\n",
       "      <td>...</td>\n",
       "      <td>NaN</td>\n",
       "      <td>NaN</td>\n",
       "      <td>NaN</td>\n",
       "      <td>NaN</td>\n",
       "      <td>NaN</td>\n",
       "      <td>NaN</td>\n",
       "      <td>Por ainda não termos implantado o SAN no munic...</td>\n",
       "      <td>6.640225e+10</td>\n",
       "      <td>2022-08-10 09:49:25.238</td>\n",
       "      <td>2022-08-12 11:18:46.295</td>\n",
       "    </tr>\n",
       "  </tbody>\n",
       "</table>\n",
       "<p>1874 rows × 556 columns</p>\n",
       "</div>"
      ],
      "text/plain": [
       "                        regiao  uf  codigo_uf            municipio   \n",
       "codigo_municipio                                                     \n",
       "1100205                  Norte  RO         11          Porto Velho  \\\n",
       "1100262                  Norte  RO         11           Rio Crespo   \n",
       "1100304                  Norte  RO         11              Vilhena   \n",
       "1100809                  Norte  RO         11   Candeias do Jamari   \n",
       "1200336                  Norte  AC         12          Mâncio Lima   \n",
       "...                        ...  ..        ...                  ...   \n",
       "5220157           Centro-Oeste  GO         52    São Luiz do Norte   \n",
       "5220454           Centro-Oeste  GO         52       Senador Canedo   \n",
       "5221700           Centro-Oeste  GO         52               Uruana   \n",
       "5221858           Centro-Oeste  GO         52  Valparaíso de Goiás   \n",
       "5222005           Centro-Oeste  GO         52           Vianópolis   \n",
       "\n",
       "                  populacao_estimada          porte_pop_ibge   \n",
       "codigo_municipio                                               \n",
       "1100205                       548952         Mais de 500.000  \\\n",
       "1100262                         3843               Até 5.000   \n",
       "1100304                       104517   De 50.001 até 100.000   \n",
       "1100809                        28068    De 20.001 até 50.000   \n",
       "1200336                        19643    De 10.001 até 20.000   \n",
       "...                              ...                     ...   \n",
       "5220157                         5263     De 5.001 até 10.000   \n",
       "5220454                       121447  De 100.001 até 500.000   \n",
       "5221700                        13795    De 10.001 até 20.000   \n",
       "5221858                       175720  De 100.001 até 500.000   \n",
       "5222005                        14088    De 10.001 até 20.000   \n",
       "\n",
       "                         porte_pop_sisan     v9043   \n",
       "codigo_municipio                                     \n",
       "1100205                  Mais de 500.000       Sim  \\\n",
       "1100262                       Até 50.000  Não Sabe   \n",
       "1100304            De 50.001 até 100.000       Sim   \n",
       "1100809                       Até 50.000       Não   \n",
       "1200336                       Até 50.000  Não Sabe   \n",
       "...                                  ...       ...   \n",
       "5220157                       Até 50.000  Não Sabe   \n",
       "5220454           De 100.001 até 200.000       Sim   \n",
       "5221700                       Até 50.000       Sim   \n",
       "5221858           De 100.001 até 200.000       Não   \n",
       "5222005                       Até 50.000  Não Sabe   \n",
       "\n",
       "                                                v14072_2   \n",
       "codigo_municipio                                           \n",
       "1100205                                              NaN  \\\n",
       "1100262                                              NaN   \n",
       "1100304           Ações de saúde, alimentação e nutrição   \n",
       "1100809                                              NaN   \n",
       "1200336                                              NaN   \n",
       "...                                                  ...   \n",
       "5220157                                              NaN   \n",
       "5220454                                              NaN   \n",
       "5221700           Ações de saúde, alimentação e nutrição   \n",
       "5221858                                              NaN   \n",
       "5222005                                              NaN   \n",
       "\n",
       "                                                           v14072_4  ...   \n",
       "codigo_municipio                                                     ...   \n",
       "1100205           Ações de garantia dos direitos socioassistenciais  ...  \\\n",
       "1100262                                                         NaN  ...   \n",
       "1100304                                                         NaN  ...   \n",
       "1100809                                                         NaN  ...   \n",
       "1200336                                                         NaN  ...   \n",
       "...                                                             ...  ...   \n",
       "5220157                                                         NaN  ...   \n",
       "5220454           Ações de garantia dos direitos socioassistenciais  ...   \n",
       "5221700           Ações de garantia dos direitos socioassistenciais  ...   \n",
       "5221858                                                         NaN  ...   \n",
       "5222005                                                         NaN  ...   \n",
       "\n",
       "                 v14132_45 v14132_50 v14132_55 v14132_60 v14132_98 v14132_97   \n",
       "codigo_municipio                                                               \n",
       "1100205                NaN       NaN       NaN       NaN       NaN       NaN  \\\n",
       "1100262                NaN       NaN       NaN       NaN       NaN       NaN   \n",
       "1100304                NaN       NaN       NaN       NaN       NaN       NaN   \n",
       "1100809                NaN       NaN       NaN       NaN       NaN       NaN   \n",
       "1200336                NaN       NaN       NaN       NaN       NaN       NaN   \n",
       "...                    ...       ...       ...       ...       ...       ...   \n",
       "5220157                NaN       NaN       NaN       NaN       NaN       NaN   \n",
       "5220454                NaN       NaN       NaN       NaN       NaN       NaN   \n",
       "5221700                NaN       NaN       NaN       NaN       NaN       NaN   \n",
       "5221858                NaN       NaN       NaN       NaN       NaN       NaN   \n",
       "5222005                NaN       NaN       NaN       NaN       NaN       NaN   \n",
       "\n",
       "                                                             v14133   \n",
       "codigo_municipio                                                      \n",
       "1100205           ações pulverizadas de SAN no município sem uma...  \\\n",
       "1100262                          ALGUMAS FOI A FALTA DE INFORMAÇÕES   \n",
       "1100304           Dificuldade por ser um questionário intersetor...   \n",
       "1100809                                                      Tempo.   \n",
       "1200336                                                    Nenhuma.   \n",
       "...                                                             ...   \n",
       "5220157                                              banco de dados   \n",
       "5220454           ausência do município na adesão e regulamentaç...   \n",
       "5221700           FALTA DE INFORMAÇÕES  SOBRE  TODAS OS OBJETIVO...   \n",
       "5221858                                                     Nenhuma   \n",
       "5222005           Por ainda não termos implantado o SAN no munic...   \n",
       "\n",
       "                       usuario data_hora_preenchimento      data_hora_extracao  \n",
       "codigo_municipio                                                                \n",
       "1100205           2.094308e+09 2022-07-27 11:29:42.909 2022-08-12 11:18:46.295  \n",
       "1100262           7.649490e+10 2022-07-28 11:02:03.671 2022-08-12 11:18:46.295  \n",
       "1100304           8.000165e+10 2022-07-28 13:49:27.810 2022-08-12 11:18:46.295  \n",
       "1100809           9.594977e+10 2022-08-05 11:16:16.441 2022-08-12 11:18:46.295  \n",
       "1200336           5.407811e+09 2022-07-27 12:12:28.690 2022-08-12 11:18:46.295  \n",
       "...                        ...                     ...                     ...  \n",
       "5220157           8.006421e+10 2022-08-04 08:43:32.753 2022-08-12 11:18:46.295  \n",
       "5220454           9.458601e+08 2022-07-13 10:12:51.896 2022-08-12 11:18:46.295  \n",
       "5221700           9.555831e+08 2022-07-21 11:46:30.010 2022-08-12 11:18:46.295  \n",
       "5221858           7.868874e+10 2022-07-25 09:48:01.723 2022-08-12 11:18:46.295  \n",
       "5222005           6.640225e+10 2022-08-10 09:49:25.238 2022-08-12 11:18:46.295  \n",
       "\n",
       "[1874 rows x 556 columns]"
      ]
     },
     "execution_count": 192,
     "metadata": {},
     "output_type": "execute_result"
    }
   ],
   "source": [
    "df"
   ]
  },
  {
   "cell_type": "code",
   "execution_count": 193,
   "metadata": {},
   "outputs": [
    {
     "data": {
      "text/plain": [
       "regiao                             object\n",
       "uf                                 object\n",
       "codigo_uf                           int64\n",
       "municipio                          object\n",
       "populacao_estimada                  int64\n",
       "                                ...      \n",
       "v14132_97                          object\n",
       "v14133                             object\n",
       "usuario                           float64\n",
       "data_hora_preenchimento    datetime64[ns]\n",
       "data_hora_extracao         datetime64[ns]\n",
       "Length: 556, dtype: object"
      ]
     },
     "execution_count": 193,
     "metadata": {},
     "output_type": "execute_result"
    }
   ],
   "source": [
    "df.dtypes"
   ]
  },
  {
   "cell_type": "code",
   "execution_count": 194,
   "metadata": {},
   "outputs": [],
   "source": [
    "df['v14154_7'] = df['v14154_7'].astype(object)\n",
    "df['v14154_13'] = df['v14154_13'].astype(object)\n",
    "df['v14154_15'] = df['v14154_15'].astype(object)\n",
    "df['v14154_16'] = df['v14154_16'].astype(object)\n",
    "df['v14154_18'] = df['v14154_18'].astype(object)\n",
    "df['v14154_25'] = df['v14154_25'].astype(object)\n",
    "df['v9888_0'] = df['v9888_0'].astype(object)"
   ]
  },
  {
   "cell_type": "code",
   "execution_count": 195,
   "metadata": {},
   "outputs": [
    {
     "data": {
      "text/plain": [
       "regiao                             object\n",
       "uf                                 object\n",
       "codigo_uf                           int64\n",
       "municipio                          object\n",
       "populacao_estimada                  int64\n",
       "                                ...      \n",
       "v14132_97                          object\n",
       "v14133                             object\n",
       "usuario                           float64\n",
       "data_hora_preenchimento    datetime64[ns]\n",
       "data_hora_extracao         datetime64[ns]\n",
       "Length: 556, dtype: object"
      ]
     },
     "execution_count": 195,
     "metadata": {},
     "output_type": "execute_result"
    }
   ],
   "source": [
    "df.dtypes"
   ]
  },
  {
   "cell_type": "code",
   "execution_count": 196,
   "metadata": {},
   "outputs": [],
   "source": [
    "df['usuario'] = df['usuario'].astype(object)"
   ]
  },
  {
   "cell_type": "code",
   "execution_count": 197,
   "metadata": {},
   "outputs": [],
   "source": [
    "vars_to_binarize = [\n",
    "'v14072_2',\n",
    "'v14072_4',\n",
    "'v14072_6',\n",
    "'v14072_8',\n",
    "'v14072_10',\n",
    "'v14072_12',\n",
    "'v14072_14',\n",
    "'v14072_16',\n",
    "'v14072_18',\n",
    "'v14072_20',\n",
    "'v14072_22',\n",
    "'v14072_24',\n",
    "'v14072_26',\n",
    "'v14072_28',\n",
    "'v14072_30',\n",
    "'v14072_32',\n",
    "'v14072_34',\n",
    "'v14072_36',\n",
    "'v14072_38',\n",
    "'v14072_40',\n",
    "'v14072_42',\n",
    "'v14072_98',\n",
    "'v14072_99',\n",
    "'v14078_5',\n",
    "'v14078_10',\n",
    "'v14078_15',\n",
    "'v14078_20',\n",
    "'v14078_25',\n",
    "'v14078_30',\n",
    "'v14078_35',\n",
    "'v14078_40',\n",
    "'v14078_98',\n",
    "'v10026_5',\n",
    "'v10026_10',\n",
    "'v10026_15',\n",
    "'v10026_20',\n",
    "'v10026_0',\n",
    "'v10026_99',\n",
    "'v14079_5',\n",
    "'v14079_10',\n",
    "'v14079_15',\n",
    "'v14079_20',\n",
    "'v14079_0',\n",
    "'v14079_99',\n",
    "'v14080_5',\n",
    "'v14080_10',\n",
    "'v14080_15',\n",
    "'v14080_20',\n",
    "'v14080_0',\n",
    "'v14080_99',\n",
    "'v14081_5',\n",
    "'v14081_10',\n",
    "'v14081_15',\n",
    "'v14081_20',\n",
    "'v14081_0',\n",
    "'v14081_99',\n",
    "'v14094_5',\n",
    "'v14094_10',\n",
    "'v14094_98',\n",
    "'v14094_97',\n",
    "'v14094_0',\n",
    "'v14094_99',\n",
    "'v14083_5',\n",
    "'v14083_10',\n",
    "'v14083_15',\n",
    "'v14083_20',\n",
    "'v14083_25',\n",
    "'v14083_30',\n",
    "'v14083_98',\n",
    "'v14083_97',\n",
    "'v14083_99',\n",
    "'v14088_5',\n",
    "'v14088_10',\n",
    "'v14088_15',\n",
    "'v14088_99',\n",
    "'v14089_5',\n",
    "'v14089_10',\n",
    "'v14089_15',\n",
    "'v14089_20',\n",
    "'v14089_25',\n",
    "'v14089_30',\n",
    "'v14089_98',\n",
    "'v14089_99',\n",
    "'v14091_5',\n",
    "'v14091_10',\n",
    "'v14091_15',\n",
    "'v14093_5',\n",
    "'v14093_10',\n",
    "'v14093_15',\n",
    "'v14093_20',\n",
    "'v14093_25',\n",
    "'v14093_98',\n",
    "'v10041_2',\n",
    "'v10041_4',\n",
    "'v10041_6',\n",
    "'v10041_8',\n",
    "'v10041_10',\n",
    "'v10041_12',\n",
    "'v10041_14',\n",
    "'v10041_16',\n",
    "'v10041_18',\n",
    "'v10041_20',\n",
    "'v10041_22',\n",
    "'v10041_24',\n",
    "'v10041_26',\n",
    "'v10041_28',\n",
    "'v10041_30',\n",
    "'v10041_32',\n",
    "'v10041_34',\n",
    "'v10041_36',\n",
    "'v10041_38',\n",
    "'v10041_40',\n",
    "'v10041_42',\n",
    "'v10041_98',\n",
    "'v10041_99',\n",
    "'v14096_2',\n",
    "'v14096_4',\n",
    "'v14096_6',\n",
    "'v14096_8',\n",
    "'v14096_10',\n",
    "'v14096_12',\n",
    "'v14096_14',\n",
    "'v14096_16',\n",
    "'v14096_18',\n",
    "'v14096_20',\n",
    "'v14096_22',\n",
    "'v14096_24',\n",
    "'v14096_26',\n",
    "'v14096_28',\n",
    "'v14096_98',\n",
    "'v14096_99',\n",
    "'v14095_5',\n",
    "'v14095_10',\n",
    "'v14095_15',\n",
    "'v14095_20',\n",
    "'v14095_25',\n",
    "'v14095_98',\n",
    "'v14085_5',\n",
    "'v14085_10',\n",
    "'v14085_15',\n",
    "'v14085_20',\n",
    "'v14085_98',\n",
    "'v14085_99',\n",
    "'v10029_5',\n",
    "'v10029_10',\n",
    "'v10029_15',\n",
    "'v14097_5',\n",
    "'v14097_10',\n",
    "'v14097_15',\n",
    "'v14097_20',\n",
    "'v14097_25',\n",
    "'v14097_30',\n",
    "'v14097_35',\n",
    "'v14097_98',\n",
    "'v14097_99',\n",
    "'v14098_5',\n",
    "'v14098_10',\n",
    "'v14098_15',\n",
    "'v14098_20',\n",
    "'v14098_25',\n",
    "'v14098_30',\n",
    "'v14098_35',\n",
    "'v14098_40',\n",
    "'v14098_98',\n",
    "'v14098_99',\n",
    "'v14100_5',\n",
    "'v14100_10',\n",
    "'v14100_15',\n",
    "'v10031_5',\n",
    "'v10031_10',\n",
    "'v10031_15',\n",
    "'v10031_99',\n",
    "'v14101_2',\n",
    "'v14101_4',\n",
    "'v14101_6',\n",
    "'v14101_8',\n",
    "'v14101_10',\n",
    "'v14101_12',\n",
    "'v14101_16',\n",
    "'v14101_18',\n",
    "'v14101_20',\n",
    "'v14101_22',\n",
    "'v14101_24',\n",
    "'v14101_97',\n",
    "'v14101_98',\n",
    "'v14101_99',\n",
    "'v14102_2',\n",
    "'v14102_4',\n",
    "'v14102_6',\n",
    "'v14102_8',\n",
    "'v14102_10',\n",
    "'v14102_98',\n",
    "'v14102_99',\n",
    "'v14104_11',\n",
    "'v14104_12',\n",
    "'v14104_13',\n",
    "'v14104_21',\n",
    "'v14104_22',\n",
    "'v14104_23',\n",
    "'v14104_24',\n",
    "'v14104_25',\n",
    "'v14104_31',\n",
    "'v14104_32',\n",
    "'v14104_33',\n",
    "'v14104_34',\n",
    "'v14104_0',\n",
    "'v14104_98',\n",
    "'v14105_2',\n",
    "'v14105_4',\n",
    "'v14105_6',\n",
    "'v14105_8',\n",
    "'v14105_10',\n",
    "'v14105_12',\n",
    "'v14105_14',\n",
    "'v14105_16',\n",
    "'v14105_18',\n",
    "'v14105_20',\n",
    "'v14105_22',\n",
    "'v14105_98',\n",
    "'v14105_99',\n",
    "'v14106_2',\n",
    "'v14106_4',\n",
    "'v14106_6',\n",
    "'v14106_8',\n",
    "'v14106_98',\n",
    "'v14106_99',\n",
    "'v10037_1',\n",
    "'v10037_2',\n",
    "'v10037_3',\n",
    "'v10037_4',\n",
    "'v10037_5',\n",
    "'v10037_6',\n",
    "'v10037_7',\n",
    "'v10037_98',\n",
    "'v10037_99',\n",
    "'v14108_2',\n",
    "'v14108_4',\n",
    "'v14108_6',\n",
    "'v14108_8',\n",
    "'v14108_10',\n",
    "'v14108_12',\n",
    "'v14108_14',\n",
    "'v14108_16',\n",
    "'v14108_18',\n",
    "'v14108_97',\n",
    "'v14108_98',\n",
    "'v14108_99',\n",
    "'v14109_2',\n",
    "'v14109_4',\n",
    "'v14109_6',\n",
    "'v14109_8',\n",
    "'v14109_98',\n",
    "'v14109_99',\n",
    "'v9990_1',\n",
    "'v9990_2',\n",
    "'v9990_3',\n",
    "'v9990_4',\n",
    "'v9990_98',\n",
    "'v9990_99',\n",
    "'v14112_2',\n",
    "'v14112_4',\n",
    "'v14112_6',\n",
    "'v14112_8',\n",
    "'v14112_10',\n",
    "'v14112_98',\n",
    "'v14112_99',\n",
    "'v9999_1',\n",
    "'v9999_2',\n",
    "'v9999_3',\n",
    "'v9999_4',\n",
    "'v9999_5',\n",
    "'v9999_6',\n",
    "'v9999_7',\n",
    "'v9999_98',\n",
    "'v9999_99',\n",
    "'v10001_1',\n",
    "'v10001_2',\n",
    "'v10001_3',\n",
    "'v10001_4',\n",
    "'v10001_5',\n",
    "'v10001_6',\n",
    "'v10001_7',\n",
    "'v10001_8',\n",
    "'v10001_9',\n",
    "'v10001_10',\n",
    "'v10001_11',\n",
    "'v10001_12',\n",
    "'v10001_13',\n",
    "'v10001_14',\n",
    "'v10001_15',\n",
    "'v10001_16',\n",
    "'v10001_17',\n",
    "'v10001_18',\n",
    "'v10001_19',\n",
    "'v10001_20',\n",
    "'v10001_21',\n",
    "'v10001_22',\n",
    "'v10001_23',\n",
    "'v10001_24',\n",
    "'v10001_25',\n",
    "'v10001_26',\n",
    "'v10001_27',\n",
    "'v10001_99',\n",
    "'v14113_5',\n",
    "'v14113_10',\n",
    "'v14113_15',\n",
    "'v14113_20',\n",
    "'v14113_25',\n",
    "'v14113_30',\n",
    "'v14113_35',\n",
    "'v14113_40',\n",
    "'v14113_98',\n",
    "'v14157_2',\n",
    "'v14157_4',\n",
    "'v14157_6',\n",
    "'v14157_98',\n",
    "'v14157_99',\n",
    "'v14163_2',\n",
    "'v14163_4',\n",
    "'v14163_6',\n",
    "'v14163_8',\n",
    "'v14163_10',\n",
    "'v14163_12',\n",
    "'v14163_14',\n",
    "'v14163_16',\n",
    "'v14163_18',\n",
    "'v14163_20',\n",
    "'v14163_22',\n",
    "'v14163_24',\n",
    "'v14163_26',\n",
    "'v14163_28',\n",
    "'v14163_30',\n",
    "'v14163_32',\n",
    "'v14163_34',\n",
    "'v14163_36',\n",
    "'v14163_98',\n",
    "'v14163_99',\n",
    "'v14154_28',\n",
    "'v14154_29',\n",
    "'v14154_30',\n",
    "'v14154_97',\n",
    "'v14154_1',\n",
    "'v14154_2',\n",
    "'v14154_3',\n",
    "'v14154_4',\n",
    "'v14154_5',\n",
    "'v14154_6',\n",
    "'v14154_7',\n",
    "'v14154_8',\n",
    "'v14154_9',\n",
    "'v14154_10',\n",
    "'v14154_11',\n",
    "'v14154_12',\n",
    "'v14154_13',\n",
    "'v14154_14',\n",
    "'v14154_15',\n",
    "'v14154_16',\n",
    "'v14154_17',\n",
    "'v14154_18',\n",
    "'v14154_19',\n",
    "'v14154_20',\n",
    "'v14154_21',\n",
    "'v14154_22',\n",
    "'v14154_23',\n",
    "'v14154_24',\n",
    "'v14154_25',\n",
    "'v14154_26',\n",
    "'v14154_27',\n",
    "'v14154_98',\n",
    "'v9888_1',\n",
    "'v9888_2',\n",
    "'v9888_3',\n",
    "'v9888_4',\n",
    "'v9888_5',\n",
    "'v9888_6',\n",
    "'v9888_7',\n",
    "'v9888_8',\n",
    "'v9888_9',\n",
    "'v9888_10',\n",
    "'v9888_11',\n",
    "'v9888_12',\n",
    "'v9888_98',\n",
    "'v9888_0',\n",
    "'v9888_99',\n",
    "'v14115_2',\n",
    "'v14115_4',\n",
    "'v14115_6',\n",
    "'v14115_8',\n",
    "'v14115_10',\n",
    "'v14115_12',\n",
    "'v14115_99',\n",
    "'v14116_2',\n",
    "'v14116_4',\n",
    "'v14116_6',\n",
    "'v14116_8',\n",
    "'v14116_10',\n",
    "'v14116_12',\n",
    "'v14116_99',\n",
    "'v14117_2',\n",
    "'v14117_4',\n",
    "'v14117_6',\n",
    "'v14117_8',\n",
    "'v14117_10',\n",
    "'v14117_12',\n",
    "'v14117_14',\n",
    "'v14117_16',\n",
    "'v14117_18',\n",
    "'v14117_20',\n",
    "'v14117_22',\n",
    "'v14117_98',\n",
    "'v14117_99',\n",
    "'v14119_2',\n",
    "'v14119_4',\n",
    "'v14119_6',\n",
    "'v14119_8',\n",
    "'v14119_10',\n",
    "'v14119_12',\n",
    "'v14119_14',\n",
    "'v14119_98',\n",
    "'v14119_99',\n",
    "'v10014_1',\n",
    "'v10014_2',\n",
    "'v10014_98',\n",
    "'v10014_99',\n",
    "'v10012_1',\n",
    "'v10012_2',\n",
    "'v10012_3',\n",
    "'v10012_4',\n",
    "'v10012_99',\n",
    "'v10057_1',\n",
    "'v10057_2',\n",
    "'v10057_3',\n",
    "'v10057_4',\n",
    "'v10057_99',\n",
    "'v10058_1',\n",
    "'v10058_2',\n",
    "'v10058_3',\n",
    "'v10058_4',\n",
    "'v10058_5',\n",
    "'v10058_6',\n",
    "'v10058_7',\n",
    "'v10058_8',\n",
    "'v10058_9',\n",
    "'v10058_98',\n",
    "'v10058_99',\n",
    "'v10059_1',\n",
    "'v10059_2',\n",
    "'v10059_3',\n",
    "'v10059_4',\n",
    "'v10059_5',\n",
    "'v10059_6',\n",
    "'v10059_7',\n",
    "'v10059_8',\n",
    "'v10059_98',\n",
    "'v10059_99',\n",
    "'v14123_2',\n",
    "'v14123_4',\n",
    "'v14123_6',\n",
    "'v14123_8',\n",
    "'v14123_98',\n",
    "'v14123_99',\n",
    "'v14124_2',\n",
    "'v14124_4',\n",
    "'v14124_6',\n",
    "'v14124_8',\n",
    "'v14124_10',\n",
    "'v14124_12',\n",
    "'v14124_98',\n",
    "'v14124_99',\n",
    "'v14127_2',\n",
    "'v14127_4',\n",
    "'v14127_6',\n",
    "'v14127_8',\n",
    "'v14127_98',\n",
    "'v14129_2',\n",
    "'v14129_4',\n",
    "'v14129_6',\n",
    "'v14129_8',\n",
    "'v14129_98',\n",
    "'v14129_99',\n",
    "'v14130_2',\n",
    "'v14130_4',\n",
    "'v14130_6',\n",
    "'v14130_8',\n",
    "'v14130_10',\n",
    "'v14130_12',\n",
    "'v14130_98',\n",
    "'v14130_99',\n",
    "'v14132_10',\n",
    "'v14132_15',\n",
    "'v14132_20',\n",
    "'v14132_25',\n",
    "'v14132_30',\n",
    "'v14132_35',\n",
    "'v14132_40',\n",
    "'v14132_45',\n",
    "'v14132_50',\n",
    "'v14132_55',\n",
    "'v14132_60',\n",
    "'v14132_98',\n",
    "'v14132_97'\n",
    "]"
   ]
  },
  {
   "cell_type": "code",
   "execution_count": 198,
   "metadata": {},
   "outputs": [],
   "source": [
    "vars_categories = [\n",
    "'v9881',\n",
    "'v9882',\n",
    "'v9883',\n",
    "'v9056',\n",
    "'v14086',\n",
    "'v10027',\n",
    "'v14087',\n",
    "'v14090',\n",
    "'v14092',\n",
    "'v14084',\n",
    "'v10028',\n",
    "'v14099',\n",
    "'v10030',\n",
    "'v14103',\n",
    "'v10032',\n",
    "'v10034',\n",
    "'v10033',\n",
    "'v14107',\n",
    "'v10036',\n",
    "'v14110',\n",
    "'v9052',\n",
    "'v9998',\n",
    "'v14156',\n",
    "'v14158',\n",
    "'v14159',\n",
    "'v14160',\n",
    "'v14161',\n",
    "'v14162',\n",
    "'v14153',\n",
    "'v14155',\n",
    "'v14111',\n",
    "'v14118',\n",
    "'v14120',\n",
    "'v10055',\n",
    "'v10056',\n",
    "'v10053',\n",
    "'v10013',\n",
    "'v9054',\n",
    "'v9057',\n",
    "'v14122',\n",
    "'v14125',\n",
    "'v14128',\n",
    "'v14131',\n",
    "'v14133'\n",
    "]"
   ]
  },
  {
   "cell_type": "code",
   "execution_count": 199,
   "metadata": {},
   "outputs": [],
   "source": [
    "def replace_values(df, vars:list):\n",
    "    for col in vars:\n",
    "        df[col] = df[col].fillna(0)\n",
    "        df[col] = df[col].apply(lambda x: 1 if isinstance(x, str) else 0).astype(int)\n",
    "    return df"
   ]
  },
  {
   "cell_type": "code",
   "execution_count": 200,
   "metadata": {},
   "outputs": [],
   "source": [
    "df = replace_values(df, vars_to_binarize)"
   ]
  },
  {
   "cell_type": "code",
   "execution_count": 201,
   "metadata": {},
   "outputs": [],
   "source": [
    "#df.to_excel('df.xlsx')"
   ]
  },
  {
   "cell_type": "code",
   "execution_count": 202,
   "metadata": {},
   "outputs": [
    {
     "data": {
      "text/plain": [
       "('v9883',\n",
       " {'Sim, todas as ações de SAN foram previstas no PPA': 0,\n",
       "  nan: 1,\n",
       "  'Sim, a maioria das ações de SAN foram previstas no PPA': 2,\n",
       "  'Não sabe': 3,\n",
       "  'Sim, algumas ações de SAN foram previstas no PPA': 4,\n",
       "  'Nenhuma ação de SAN foi prevista no PPA': 5})"
      ]
     },
     "execution_count": 202,
     "metadata": {},
     "output_type": "execute_result"
    }
   ],
   "source": [
    "autodict(df, vars_categories[2])"
   ]
  },
  {
   "cell_type": "code",
   "execution_count": 203,
   "metadata": {},
   "outputs": [],
   "source": [
    "def atrib_lbl(variavel:str, dicionario:dict, nome_arquivo, df_dict):\n",
    "    \n",
    "    # Obtém o nome da variável a partir do nome do arquivo\n",
    "    nome_variavel = variavel\n",
    "    \n",
    "    # Obtém a linha correspondente à variável\n",
    "    linha_variavel = df_dict[df_dict['variavel'] == f'{nome_variavel}'].iloc[0]\n",
    "    rotulo_variavel = linha_variavel['idV']\n",
    "    \n",
    "    # Abre o arquivo de saída para escrita em modo append\n",
    "    with open(nome_arquivo, 'a', encoding='utf-8') as arquivo_saida:\n",
    "        \n",
    "        # Escreve a sintaxe para a variável\n",
    "        arquivo_saida.write(f'VARIABLE LABELS {nome_variavel} \"{rotulo_variavel}\".\\n')\n",
    "        arquivo_saida.write(f'VALUE LABELS {nome_variavel}\\n')\n",
    "        \n",
    "        # Escreve os rótulos de valor na ordem correta\n",
    "        valores_rotulos = []\n",
    "        for rotulo, valor in dicionario.items():\n",
    "            valores_rotulos.append(f'{valor} \"{rotulo}\"')\n",
    "        \n",
    "        arquivo_saida.write(',\\n'.join(valores_rotulos) + '.\\n')\n",
    "        arquivo_saida.write('EXECUTE.\\n')\n",
    "    \n",
    "    print(f'Arquivo {nome_arquivo} atualizado com sucesso!')"
   ]
  },
  {
   "cell_type": "code",
   "execution_count": 204,
   "metadata": {},
   "outputs": [
    {
     "data": {
      "text/html": [
       "<div>\n",
       "<style scoped>\n",
       "    .dataframe tbody tr th:only-of-type {\n",
       "        vertical-align: middle;\n",
       "    }\n",
       "\n",
       "    .dataframe tbody tr th {\n",
       "        vertical-align: top;\n",
       "    }\n",
       "\n",
       "    .dataframe thead th {\n",
       "        text-align: right;\n",
       "    }\n",
       "</style>\n",
       "<table border=\"1\" class=\"dataframe\">\n",
       "  <thead>\n",
       "    <tr style=\"text-align: right;\">\n",
       "      <th></th>\n",
       "      <th>fonte</th>\n",
       "      <th>formulario</th>\n",
       "      <th>numero_label</th>\n",
       "      <th>variavel</th>\n",
       "      <th>idV</th>\n",
       "      <th>resposta</th>\n",
       "      <th>Column1</th>\n",
       "      <th>tipo_questao</th>\n",
       "      <th>descricao</th>\n",
       "      <th>obsV</th>\n",
       "      <th>numero_pagina</th>\n",
       "      <th>limite_caracteres</th>\n",
       "      <th>palavras_chave</th>\n",
       "      <th>respostas_ilimitadas</th>\n",
       "      <th>texto_orientacao</th>\n",
       "    </tr>\n",
       "  </thead>\n",
       "  <tbody>\n",
       "    <tr>\n",
       "      <th>0</th>\n",
       "      <td>1643.0</td>\n",
       "      <td>23.0</td>\n",
       "      <td>NaN</td>\n",
       "      <td>uf</td>\n",
       "      <td>Sigla da UF</td>\n",
       "      <td>Somente texto</td>\n",
       "      <td>Sigla da UF: Somente texto</td>\n",
       "      <td>Somente texto</td>\n",
       "      <td>Sigla da Unidade Federativa</td>\n",
       "      <td>NaN</td>\n",
       "      <td>NaN</td>\n",
       "      <td>NaN</td>\n",
       "      <td>NaN</td>\n",
       "      <td>NaN</td>\n",
       "      <td>NaN</td>\n",
       "    </tr>\n",
       "    <tr>\n",
       "      <th>1</th>\n",
       "      <td>1643.0</td>\n",
       "      <td>23.0</td>\n",
       "      <td>NaN</td>\n",
       "      <td>nome_municipio</td>\n",
       "      <td>Nome do município</td>\n",
       "      <td>Somente texto</td>\n",
       "      <td>Nome do município: Somente texto</td>\n",
       "      <td>Somente texto</td>\n",
       "      <td>Nome do município</td>\n",
       "      <td>NaN</td>\n",
       "      <td>NaN</td>\n",
       "      <td>NaN</td>\n",
       "      <td>NaN</td>\n",
       "      <td>NaN</td>\n",
       "      <td>NaN</td>\n",
       "    </tr>\n",
       "    <tr>\n",
       "      <th>2</th>\n",
       "      <td>1643.0</td>\n",
       "      <td>23.0</td>\n",
       "      <td>NaN</td>\n",
       "      <td>formulario</td>\n",
       "      <td>Código do formulário</td>\n",
       "      <td>Campo aberto</td>\n",
       "      <td>Código do formulário: Campo aberto</td>\n",
       "      <td>Campo aberto</td>\n",
       "      <td>Código do formulário</td>\n",
       "      <td>NaN</td>\n",
       "      <td>NaN</td>\n",
       "      <td>NaN</td>\n",
       "      <td>NaN</td>\n",
       "      <td>NaN</td>\n",
       "      <td>NaN</td>\n",
       "    </tr>\n",
       "    <tr>\n",
       "      <th>3</th>\n",
       "      <td>1643.0</td>\n",
       "      <td>23.0</td>\n",
       "      <td>NaN</td>\n",
       "      <td>versao_salva</td>\n",
       "      <td>Código da versão salva do formulário</td>\n",
       "      <td>Apenas número</td>\n",
       "      <td>Código da versão salva do formulário: Apenas n...</td>\n",
       "      <td>Apenas número</td>\n",
       "      <td>Código da versão salva do formulário</td>\n",
       "      <td>NaN</td>\n",
       "      <td>NaN</td>\n",
       "      <td>NaN</td>\n",
       "      <td>NaN</td>\n",
       "      <td>NaN</td>\n",
       "      <td>NaN</td>\n",
       "    </tr>\n",
       "    <tr>\n",
       "      <th>4</th>\n",
       "      <td>1643.0</td>\n",
       "      <td>23.0</td>\n",
       "      <td>NaN</td>\n",
       "      <td>codigo_municipio</td>\n",
       "      <td>Código IBGE do município</td>\n",
       "      <td>Apenas número</td>\n",
       "      <td>Código IBGE do município: Apenas número</td>\n",
       "      <td>Apenas número</td>\n",
       "      <td>Código IBGE do município</td>\n",
       "      <td>NaN</td>\n",
       "      <td>NaN</td>\n",
       "      <td>NaN</td>\n",
       "      <td>NaN</td>\n",
       "      <td>NaN</td>\n",
       "      <td>NaN</td>\n",
       "    </tr>\n",
       "    <tr>\n",
       "      <th>...</th>\n",
       "      <td>...</td>\n",
       "      <td>...</td>\n",
       "      <td>...</td>\n",
       "      <td>...</td>\n",
       "      <td>...</td>\n",
       "      <td>...</td>\n",
       "      <td>...</td>\n",
       "      <td>...</td>\n",
       "      <td>...</td>\n",
       "      <td>...</td>\n",
       "      <td>...</td>\n",
       "      <td>...</td>\n",
       "      <td>...</td>\n",
       "      <td>...</td>\n",
       "      <td>...</td>\n",
       "    </tr>\n",
       "    <tr>\n",
       "      <th>583</th>\n",
       "      <td>1643.0</td>\n",
       "      <td>23.0</td>\n",
       "      <td>22.0</td>\n",
       "      <td>v14133</td>\n",
       "      <td>Quais foram as principais dificuldades com as ...</td>\n",
       "      <td>Campo aberto</td>\n",
       "      <td>Quais foram as principais dificuldades com as ...</td>\n",
       "      <td>Campo aberto</td>\n",
       "      <td>NaN</td>\n",
       "      <td>NaN</td>\n",
       "      <td>9.0</td>\n",
       "      <td>NaN</td>\n",
       "      <td>NaN</td>\n",
       "      <td>1.0</td>\n",
       "      <td>NaN</td>\n",
       "    </tr>\n",
       "    <tr>\n",
       "      <th>584</th>\n",
       "      <td>1643.0</td>\n",
       "      <td>23.0</td>\n",
       "      <td>NaN</td>\n",
       "      <td>usuario</td>\n",
       "      <td>CPF do usuário que preencheu o formulário</td>\n",
       "      <td>CPF</td>\n",
       "      <td>CPF do usuário que preencheu o formulário: CPF</td>\n",
       "      <td>CPF</td>\n",
       "      <td>CPF do usuário que preencheu o formulário</td>\n",
       "      <td>NaN</td>\n",
       "      <td>NaN</td>\n",
       "      <td>NaN</td>\n",
       "      <td>NaN</td>\n",
       "      <td>NaN</td>\n",
       "      <td>NaN</td>\n",
       "    </tr>\n",
       "    <tr>\n",
       "      <th>585</th>\n",
       "      <td>1643.0</td>\n",
       "      <td>23.0</td>\n",
       "      <td>NaN</td>\n",
       "      <td>data_hora_preenchimento</td>\n",
       "      <td>Data e hora que o formulário foi salvo</td>\n",
       "      <td>Data</td>\n",
       "      <td>Data e hora que o formulário foi salvo: Data</td>\n",
       "      <td>Data</td>\n",
       "      <td>Data e hora que o formulário foi salvo</td>\n",
       "      <td>NaN</td>\n",
       "      <td>NaN</td>\n",
       "      <td>NaN</td>\n",
       "      <td>NaN</td>\n",
       "      <td>NaN</td>\n",
       "      <td>NaN</td>\n",
       "    </tr>\n",
       "    <tr>\n",
       "      <th>586</th>\n",
       "      <td>1643.0</td>\n",
       "      <td>23.0</td>\n",
       "      <td>NaN</td>\n",
       "      <td>data_hora_extracao</td>\n",
       "      <td>Data e hora da geração do relatório</td>\n",
       "      <td>Data</td>\n",
       "      <td>Data e hora da geração do relatório: Data</td>\n",
       "      <td>Data</td>\n",
       "      <td>Data e hora da geração do relatório</td>\n",
       "      <td>NaN</td>\n",
       "      <td>NaN</td>\n",
       "      <td>NaN</td>\n",
       "      <td>NaN</td>\n",
       "      <td>NaN</td>\n",
       "      <td>NaN</td>\n",
       "    </tr>\n",
       "    <tr>\n",
       "      <th>587</th>\n",
       "      <td>NaN</td>\n",
       "      <td>NaN</td>\n",
       "      <td>NaN</td>\n",
       "      <td>NaN</td>\n",
       "      <td>NaN</td>\n",
       "      <td>NaN</td>\n",
       "      <td>:</td>\n",
       "      <td>NaN</td>\n",
       "      <td>NaN</td>\n",
       "      <td>NaN</td>\n",
       "      <td>NaN</td>\n",
       "      <td>NaN</td>\n",
       "      <td>NaN</td>\n",
       "      <td>NaN</td>\n",
       "      <td>NaN</td>\n",
       "    </tr>\n",
       "  </tbody>\n",
       "</table>\n",
       "<p>588 rows × 15 columns</p>\n",
       "</div>"
      ],
      "text/plain": [
       "      fonte  formulario  numero_label                 variavel   \n",
       "0    1643.0        23.0           NaN                       uf  \\\n",
       "1    1643.0        23.0           NaN           nome_municipio   \n",
       "2    1643.0        23.0           NaN               formulario   \n",
       "3    1643.0        23.0           NaN             versao_salva   \n",
       "4    1643.0        23.0           NaN         codigo_municipio   \n",
       "..      ...         ...           ...                      ...   \n",
       "583  1643.0        23.0          22.0                   v14133   \n",
       "584  1643.0        23.0           NaN                  usuario   \n",
       "585  1643.0        23.0           NaN  data_hora_preenchimento   \n",
       "586  1643.0        23.0           NaN       data_hora_extracao   \n",
       "587     NaN         NaN           NaN                      NaN   \n",
       "\n",
       "                                                   idV       resposta   \n",
       "0                                          Sigla da UF  Somente texto  \\\n",
       "1                                    Nome do município  Somente texto   \n",
       "2                                 Código do formulário   Campo aberto   \n",
       "3                 Código da versão salva do formulário  Apenas número   \n",
       "4                             Código IBGE do município  Apenas número   \n",
       "..                                                 ...            ...   \n",
       "583  Quais foram as principais dificuldades com as ...   Campo aberto   \n",
       "584          CPF do usuário que preencheu o formulário            CPF   \n",
       "585             Data e hora que o formulário foi salvo           Data   \n",
       "586                Data e hora da geração do relatório           Data   \n",
       "587                                                NaN            NaN   \n",
       "\n",
       "                                               Column1   tipo_questao   \n",
       "0                           Sigla da UF: Somente texto  Somente texto  \\\n",
       "1                     Nome do município: Somente texto  Somente texto   \n",
       "2                   Código do formulário: Campo aberto   Campo aberto   \n",
       "3    Código da versão salva do formulário: Apenas n...  Apenas número   \n",
       "4              Código IBGE do município: Apenas número  Apenas número   \n",
       "..                                                 ...            ...   \n",
       "583  Quais foram as principais dificuldades com as ...   Campo aberto   \n",
       "584     CPF do usuário que preencheu o formulário: CPF            CPF   \n",
       "585       Data e hora que o formulário foi salvo: Data           Data   \n",
       "586          Data e hora da geração do relatório: Data           Data   \n",
       "587                                                 :             NaN   \n",
       "\n",
       "                                     descricao obsV  numero_pagina   \n",
       "0                  Sigla da Unidade Federativa  NaN            NaN  \\\n",
       "1                            Nome do município  NaN            NaN   \n",
       "2                         Código do formulário  NaN            NaN   \n",
       "3         Código da versão salva do formulário  NaN            NaN   \n",
       "4                     Código IBGE do município  NaN            NaN   \n",
       "..                                         ...  ...            ...   \n",
       "583                                        NaN  NaN            9.0   \n",
       "584  CPF do usuário que preencheu o formulário  NaN            NaN   \n",
       "585     Data e hora que o formulário foi salvo  NaN            NaN   \n",
       "586        Data e hora da geração do relatório  NaN            NaN   \n",
       "587                                        NaN  NaN            NaN   \n",
       "\n",
       "     limite_caracteres palavras_chave  respostas_ilimitadas  texto_orientacao  \n",
       "0                  NaN            NaN                   NaN               NaN  \n",
       "1                  NaN            NaN                   NaN               NaN  \n",
       "2                  NaN            NaN                   NaN               NaN  \n",
       "3                  NaN            NaN                   NaN               NaN  \n",
       "4                  NaN            NaN                   NaN               NaN  \n",
       "..                 ...            ...                   ...               ...  \n",
       "583                NaN            NaN                   1.0               NaN  \n",
       "584                NaN            NaN                   NaN               NaN  \n",
       "585                NaN            NaN                   NaN               NaN  \n",
       "586                NaN            NaN                   NaN               NaN  \n",
       "587                NaN            NaN                   NaN               NaN  \n",
       "\n",
       "[588 rows x 15 columns]"
      ]
     },
     "execution_count": 204,
     "metadata": {},
     "output_type": "execute_result"
    }
   ],
   "source": [
    "dicio_excel = './Municipal/Dicionarios/Dicionario Formulario 3.xlsx'\n",
    "df_dict = pd.read_excel(dicio_excel)\n",
    "df_dict"
   ]
  },
  {
   "cell_type": "code",
   "execution_count": 205,
   "metadata": {},
   "outputs": [
    {
     "name": "stdout",
     "output_type": "stream",
     "text": [
      "Arquivo labels_f3.sps atualizado com sucesso!\n"
     ]
    },
    {
     "data": {
      "text/plain": [
       "v9883\n",
       "-1     1357\n",
       " 3      187\n",
       " 2      122\n",
       " 1      103\n",
       " 99      82\n",
       " 0       23\n",
       "Name: count, dtype: int64"
      ]
     },
     "execution_count": 205,
     "metadata": {},
     "output_type": "execute_result"
    }
   ],
   "source": [
    "v9883_dict = {\n",
    "    'Sim, todas as ações de SAN foram previstas no PPA': 3,\n",
    "    'Sim, a maioria das ações de SAN foram previstas no PPA': 2,\n",
    "    'Sim, algumas ações de SAN foram previstas no PPA': 1,\n",
    "    'Nenhuma ação de SAN foi prevista no PPA': 0,\n",
    "    'Não sabe': 99\n",
    "    }\n",
    "\n",
    "df['v9883'] = df['v9883'].map(v9883_dict)\n",
    "\n",
    "# aplicando a função map para converter a série em inteiros e tratar NaN\n",
    "df['v9883'] = df['v9883'].map(lambda x: int(x) if not np.isnan(x) else -1)\n",
    "\n",
    "atrib_lbl('v9883', v9883_dict, 'labels_f3.sps', df_dict)\n",
    "\n",
    "df['v9883'].value_counts()"
   ]
  },
  {
   "cell_type": "code",
   "execution_count": 206,
   "metadata": {},
   "outputs": [
    {
     "data": {
      "text/plain": [
       "('v9056', {'Sim': 0, 'Não Sabe': 1, 'Não': 2})"
      ]
     },
     "execution_count": 206,
     "metadata": {},
     "output_type": "execute_result"
    }
   ],
   "source": [
    "autodict(df, vars_categories[3])"
   ]
  },
  {
   "cell_type": "code",
   "execution_count": 207,
   "metadata": {},
   "outputs": [
    {
     "name": "stdout",
     "output_type": "stream",
     "text": [
      "Arquivo labels_f3.sps atualizado com sucesso!\n"
     ]
    },
    {
     "data": {
      "text/plain": [
       "v9056\n",
       "1     1355\n",
       "99     300\n",
       "0      219\n",
       "Name: count, dtype: int64"
      ]
     },
     "execution_count": 207,
     "metadata": {},
     "output_type": "execute_result"
    }
   ],
   "source": [
    "v9056_dict = {\n",
    "    'Sim': 1, \n",
    "    'Não': 0,\n",
    "    'Não Sabe': 99 \n",
    "    }\n",
    "\n",
    "df['v9056'] = df['v9056'].map(v9056_dict)\n",
    "\n",
    "# aplicando a função map para converter a série em inteiros e tratar NaN\n",
    "df['v9056'] = df['v9056'].map(lambda x: int(x) if not np.isnan(x) else -1)\n",
    "\n",
    "atrib_lbl('v9056', v9056_dict, 'labels_f3.sps', df_dict)\n",
    "\n",
    "df['v9056'].value_counts()"
   ]
  },
  {
   "cell_type": "code",
   "execution_count": 208,
   "metadata": {},
   "outputs": [
    {
     "data": {
      "text/plain": [
       "('v14086',\n",
       " {'Sim, totalmente.': 0,\n",
       "  'Não sabe': 1,\n",
       "  'Sim, parcialmente.': 2,\n",
       "  nan: 3,\n",
       "  'Não': 4,\n",
       "  'Não há recursos municipais para o desenvolvimento de ações de EAN.': 5})"
      ]
     },
     "execution_count": 208,
     "metadata": {},
     "output_type": "execute_result"
    }
   ],
   "source": [
    "autodict(df, vars_categories[4])"
   ]
  },
  {
   "cell_type": "code",
   "execution_count": 209,
   "metadata": {},
   "outputs": [
    {
     "name": "stdout",
     "output_type": "stream",
     "text": [
      "Arquivo labels_f3.sps atualizado com sucesso!\n"
     ]
    },
    {
     "data": {
      "text/plain": [
       "v14086\n",
       " 99    546\n",
       "-1     520\n",
       " 1     309\n",
       " 2     265\n",
       " 0     151\n",
       " 97     83\n",
       "Name: count, dtype: int64"
      ]
     },
     "execution_count": 209,
     "metadata": {},
     "output_type": "execute_result"
    }
   ],
   "source": [
    "v14086_dict = {\n",
    "    'Sim, totalmente.': 2,\n",
    "    'Sim, parcialmente.': 1,\n",
    "    'Não': 0,\n",
    "    'Não há recursos municipais para o desenvolvimento de ações de EAN.': 97,\n",
    "    'Não sabe': 99\n",
    "    }\n",
    "\n",
    "df['v14086'] = df['v14086'].map(v14086_dict)\n",
    "\n",
    "# aplicando a função map para converter a série em inteiros e tratar NaN\n",
    "df['v14086'] = df['v14086'].map(lambda x: int(x) if not np.isnan(x) else -1)\n",
    "\n",
    "atrib_lbl('v14086', v14086_dict, 'labels_f3.sps', df_dict)\n",
    "\n",
    "df['v14086'].value_counts()"
   ]
  },
  {
   "cell_type": "code",
   "execution_count": 210,
   "metadata": {},
   "outputs": [
    {
     "data": {
      "text/plain": [
       "('v10027', {'Sim': 0, 'Não Sabe': 1, nan: 2, 'Não': 3})"
      ]
     },
     "execution_count": 210,
     "metadata": {},
     "output_type": "execute_result"
    }
   ],
   "source": [
    "autodict(df, vars_categories[5])"
   ]
  },
  {
   "cell_type": "code",
   "execution_count": 211,
   "metadata": {},
   "outputs": [
    {
     "name": "stdout",
     "output_type": "stream",
     "text": [
      "Arquivo labels_f3.sps atualizado com sucesso!\n"
     ]
    },
    {
     "data": {
      "text/plain": [
       "v10027\n",
       " 1     940\n",
       "-1     520\n",
       " 0     229\n",
       " 99    185\n",
       "Name: count, dtype: int64"
      ]
     },
     "execution_count": 211,
     "metadata": {},
     "output_type": "execute_result"
    }
   ],
   "source": [
    "v10027_dict = {\n",
    "    'Sim': 1, \n",
    "    'Não': 0,\n",
    "    'Não Sabe': 99 \n",
    "    }\n",
    "\n",
    "df['v10027'] = df['v10027'].map(v10027_dict)\n",
    "\n",
    "# aplicando a função map para converter a série em inteiros e tratar NaN\n",
    "df['v10027'] = df['v10027'].map(lambda x: int(x) if not np.isnan(x) else -1)\n",
    "\n",
    "atrib_lbl('v10027', v10027_dict, 'labels_f3.sps', df_dict)\n",
    "\n",
    "df['v10027'].value_counts()"
   ]
  },
  {
   "cell_type": "code",
   "execution_count": 212,
   "metadata": {},
   "outputs": [
    {
     "data": {
      "text/plain": [
       "('v14087', {'Sim': 0, nan: 1, 'Não': 2, 'Não Sabe': 3})"
      ]
     },
     "execution_count": 212,
     "metadata": {},
     "output_type": "execute_result"
    }
   ],
   "source": [
    "autodict(df, vars_categories[6])"
   ]
  },
  {
   "cell_type": "code",
   "execution_count": 213,
   "metadata": {},
   "outputs": [
    {
     "name": "stdout",
     "output_type": "stream",
     "text": [
      "Arquivo labels_f3.sps atualizado com sucesso!\n"
     ]
    },
    {
     "data": {
      "text/plain": [
       "v14087\n",
       "-1     934\n",
       " 1     723\n",
       " 0     128\n",
       " 99     89\n",
       "Name: count, dtype: int64"
      ]
     },
     "execution_count": 213,
     "metadata": {},
     "output_type": "execute_result"
    }
   ],
   "source": [
    "v14087_dict = {\n",
    "    'Sim': 1, \n",
    "    'Não': 0,\n",
    "    'Não Sabe': 99 \n",
    "    }\n",
    "\n",
    "df['v14087'] = df['v14087'].map(v14087_dict)\n",
    "\n",
    "# aplicando a função map para converter a série em inteiros e tratar NaN\n",
    "df['v14087'] = df['v14087'].map(lambda x: int(x) if not np.isnan(x) else -1)\n",
    "\n",
    "atrib_lbl('v14087', v14087_dict, 'labels_f3.sps', df_dict)\n",
    "\n",
    "df['v14087'].value_counts()"
   ]
  },
  {
   "cell_type": "code",
   "execution_count": 214,
   "metadata": {},
   "outputs": [
    {
     "data": {
      "text/plain": [
       "('v14090', {'Não Sabe': 0, nan: 1, 'Sim': 2, 'Não': 3})"
      ]
     },
     "execution_count": 214,
     "metadata": {},
     "output_type": "execute_result"
    }
   ],
   "source": [
    "autodict(df, vars_categories[7])"
   ]
  },
  {
   "cell_type": "code",
   "execution_count": 215,
   "metadata": {},
   "outputs": [],
   "source": [
    "def dic_sim_nao(variavel:str, nome_arquivo, df_dict):\n",
    "    # dicionário sim, não, não sabe\n",
    "    dicionario = {\"Sim\": 1, \"Não\": 0, \"Não Sabe\": 99}\n",
    "    df[variavel] = df[variavel].map(dicionario)\n",
    "    # aplicando a função map para converter a série em inteiros e tratar NaN\n",
    "    df[variavel] = df[variavel].map(lambda x: int(x) if not np.isnan(x) else -1)\n",
    "    atrib_lbl(variavel, dicionario, nome_arquivo, df_dict)\n",
    "    return df[variavel].value_counts()"
   ]
  },
  {
   "cell_type": "code",
   "execution_count": 216,
   "metadata": {},
   "outputs": [
    {
     "name": "stdout",
     "output_type": "stream",
     "text": [
      "Arquivo labels_f3.sps atualizado com sucesso!\n"
     ]
    },
    {
     "data": {
      "text/plain": [
       "v14090\n",
       "-1     934\n",
       " 1     507\n",
       " 0     310\n",
       " 99    123\n",
       "Name: count, dtype: int64"
      ]
     },
     "execution_count": 216,
     "metadata": {},
     "output_type": "execute_result"
    }
   ],
   "source": [
    "dic_sim_nao('v14090', 'labels_f3.sps', df_dict)"
   ]
  },
  {
   "cell_type": "code",
   "execution_count": 217,
   "metadata": {},
   "outputs": [
    {
     "data": {
      "text/plain": [
       "('v14092', {'Não': 0, nan: 1, 'Não Sabe': 2, 'Sim': 3})"
      ]
     },
     "execution_count": 217,
     "metadata": {},
     "output_type": "execute_result"
    }
   ],
   "source": [
    "autodict(df, vars_categories[8])"
   ]
  },
  {
   "cell_type": "code",
   "execution_count": 218,
   "metadata": {},
   "outputs": [
    {
     "name": "stdout",
     "output_type": "stream",
     "text": [
      "Arquivo labels_f3.sps atualizado com sucesso!\n"
     ]
    },
    {
     "data": {
      "text/plain": [
       "v14092\n",
       "-1     934\n",
       " 0     656\n",
       " 99    146\n",
       " 1     138\n",
       "Name: count, dtype: int64"
      ]
     },
     "execution_count": 218,
     "metadata": {},
     "output_type": "execute_result"
    }
   ],
   "source": [
    "dic_sim_nao(vars_categories[8], 'labels_f3.sps', df_dict)"
   ]
  },
  {
   "cell_type": "code",
   "execution_count": 219,
   "metadata": {},
   "outputs": [
    {
     "data": {
      "text/plain": [
       "('v14084', {'Não': 0, 'Não Sabe': 1, 'Sim': 2, nan: 3})"
      ]
     },
     "execution_count": 219,
     "metadata": {},
     "output_type": "execute_result"
    }
   ],
   "source": [
    "autodict(df, vars_categories[9])"
   ]
  },
  {
   "cell_type": "code",
   "execution_count": 220,
   "metadata": {},
   "outputs": [
    {
     "name": "stdout",
     "output_type": "stream",
     "text": [
      "Arquivo labels_f3.sps atualizado com sucesso!\n"
     ]
    },
    {
     "data": {
      "text/plain": [
       "v14084\n",
       " 1     596\n",
       "-1     520\n",
       " 99    393\n",
       " 0     365\n",
       "Name: count, dtype: int64"
      ]
     },
     "execution_count": 220,
     "metadata": {},
     "output_type": "execute_result"
    }
   ],
   "source": [
    "dic_sim_nao(vars_categories[9], 'labels_f3.sps', df_dict)"
   ]
  },
  {
   "cell_type": "code",
   "execution_count": 221,
   "metadata": {},
   "outputs": [
    {
     "data": {
      "text/plain": [
       "('v10028', {'Sim': 0, nan: 1, 'Não Sabe': 2, 'Não': 3})"
      ]
     },
     "execution_count": 221,
     "metadata": {},
     "output_type": "execute_result"
    }
   ],
   "source": [
    "autodict(df, vars_categories[10])"
   ]
  },
  {
   "cell_type": "code",
   "execution_count": 222,
   "metadata": {},
   "outputs": [
    {
     "name": "stdout",
     "output_type": "stream",
     "text": [
      "Arquivo labels_f3.sps atualizado com sucesso!\n"
     ]
    },
    {
     "data": {
      "text/plain": [
       "v10028\n",
       " 1     1214\n",
       "-1      520\n",
       " 99     118\n",
       " 0       22\n",
       "Name: count, dtype: int64"
      ]
     },
     "execution_count": 222,
     "metadata": {},
     "output_type": "execute_result"
    }
   ],
   "source": [
    "dic_sim_nao(vars_categories[10], 'labels_f3.sps', df_dict)"
   ]
  },
  {
   "cell_type": "code",
   "execution_count": 223,
   "metadata": {},
   "outputs": [
    {
     "data": {
      "text/plain": [
       "('v14099',\n",
       " {'Mensal': 0,\n",
       "  'Não sabe': 1,\n",
       "  'Bimestral': 2,\n",
       "  nan: 3,\n",
       "  'Semestral': 4,\n",
       "  'Anual': 5,\n",
       "  'Diária': 6,\n",
       "  'Semanal': 7,\n",
       "  'Quinzenal': 8})"
      ]
     },
     "execution_count": 223,
     "metadata": {},
     "output_type": "execute_result"
    }
   ],
   "source": [
    "autodict(df, vars_categories[11])"
   ]
  },
  {
   "cell_type": "code",
   "execution_count": 224,
   "metadata": {},
   "outputs": [
    {
     "name": "stdout",
     "output_type": "stream",
     "text": [
      "Arquivo labels_f3.sps atualizado com sucesso!\n"
     ]
    },
    {
     "data": {
      "text/plain": [
       "v14099\n",
       "-1      660\n",
       " 2      304\n",
       " 12     222\n",
       " 3      197\n",
       " 99     188\n",
       " 1      131\n",
       " 365     91\n",
       " 48      60\n",
       " 24      21\n",
       "Name: count, dtype: int64"
      ]
     },
     "execution_count": 224,
     "metadata": {},
     "output_type": "execute_result"
    }
   ],
   "source": [
    "v14099_dict = {\n",
    "    \"Diária\": 365,\n",
    "    \"Semanal\": 48,\n",
    "    \"Quinzenal\": 24,\n",
    "    \"Mensal\": 12,\n",
    "    \"Bimestral\": 3,\n",
    "    \"Semestral\": 2,\n",
    "    \"Anual\": 1,\n",
    "    \"Não sabe\": 99\n",
    "}\n",
    "\n",
    "df[\"v14099\"] = df[\"v14099\"].map(v14099_dict)\n",
    "\n",
    "# aplicando a função map para converter a série em inteiros e tratar NaN\n",
    "df[\"v14099\"] = df[\"v14099\"].map(lambda x: int(x) if not np.isnan(x) else -1)\n",
    "\n",
    "atrib_lbl(\"v14099\", v14099_dict, \"labels_f3.sps\", df_dict)\n",
    "\n",
    "df[\"v14099\"].value_counts()\n"
   ]
  },
  {
   "cell_type": "code",
   "execution_count": 225,
   "metadata": {},
   "outputs": [
    {
     "data": {
      "text/plain": [
       "('v10030', {'Sim': 0, 'Não Sabe': 1, 'Não': 2, nan: 3})"
      ]
     },
     "execution_count": 225,
     "metadata": {},
     "output_type": "execute_result"
    }
   ],
   "source": [
    "autodict(df, vars_categories[12])"
   ]
  },
  {
   "cell_type": "code",
   "execution_count": 226,
   "metadata": {},
   "outputs": [
    {
     "name": "stdout",
     "output_type": "stream",
     "text": [
      "Arquivo labels_f3.sps atualizado com sucesso!\n"
     ]
    },
    {
     "data": {
      "text/plain": [
       "v10030\n",
       " 1     1034\n",
       "-1      520\n",
       " 99     250\n",
       " 0       70\n",
       "Name: count, dtype: int64"
      ]
     },
     "execution_count": 226,
     "metadata": {},
     "output_type": "execute_result"
    }
   ],
   "source": [
    "dic_sim_nao(vars_categories[12], 'labels_f3.sps', df_dict)"
   ]
  },
  {
   "cell_type": "code",
   "execution_count": 227,
   "metadata": {},
   "outputs": [
    {
     "data": {
      "text/plain": [
       "('v14103',\n",
       " {'Mensal': 0,\n",
       "  nan: 1,\n",
       "  'Semestral': 2,\n",
       "  'Diária': 3,\n",
       "  'Não sabe': 4,\n",
       "  'Semanal': 5,\n",
       "  'Bimestral': 6,\n",
       "  'Quinzenal': 7,\n",
       "  'Anual': 8})"
      ]
     },
     "execution_count": 227,
     "metadata": {},
     "output_type": "execute_result"
    }
   ],
   "source": [
    "autodict(df, vars_categories[13])"
   ]
  },
  {
   "cell_type": "code",
   "execution_count": 228,
   "metadata": {},
   "outputs": [
    {
     "name": "stdout",
     "output_type": "stream",
     "text": [
      "Arquivo labels_f3.sps atualizado com sucesso!\n"
     ]
    },
    {
     "data": {
      "text/plain": [
       "v14103\n",
       "-1      840\n",
       " 12     274\n",
       " 99     157\n",
       " 365    150\n",
       " 2      147\n",
       " 48     123\n",
       " 3      110\n",
       " 1       46\n",
       " 24      27\n",
       "Name: count, dtype: int64"
      ]
     },
     "execution_count": 228,
     "metadata": {},
     "output_type": "execute_result"
    }
   ],
   "source": [
    "v14103_dict = {\n",
    "    \"Diária\": 365,\n",
    "    \"Semanal\": 48,\n",
    "    \"Quinzenal\": 24,\n",
    "    \"Mensal\": 12,\n",
    "    \"Bimestral\": 3,\n",
    "    \"Semestral\": 2,\n",
    "    \"Anual\": 1,\n",
    "    \"Não sabe\": 99\n",
    "}\n",
    "\n",
    "df[\"v14103\"] = df[\"v14103\"].map(v14103_dict)\n",
    "\n",
    "# aplicando a função map para converter a série em inteiros e tratar NaN\n",
    "df[\"v14103\"] = df[\"v14103\"].map(lambda x: int(x) if not np.isnan(x) else -1)\n",
    "\n",
    "atrib_lbl(\"v14103\", v14103_dict, \"labels_f3.sps\", df_dict)\n",
    "\n",
    "df[\"v14103\"].value_counts()"
   ]
  },
  {
   "cell_type": "code",
   "execution_count": 229,
   "metadata": {},
   "outputs": [
    {
     "data": {
      "text/plain": [
       "('v10032', {'Sim': 0, 'Não Sabe': 1, 'Não': 2, nan: 3})"
      ]
     },
     "execution_count": 229,
     "metadata": {},
     "output_type": "execute_result"
    }
   ],
   "source": [
    "autodict(df, vars_categories[14])"
   ]
  },
  {
   "cell_type": "code",
   "execution_count": 230,
   "metadata": {},
   "outputs": [
    {
     "name": "stdout",
     "output_type": "stream",
     "text": [
      "Arquivo labels_f3.sps atualizado com sucesso!\n"
     ]
    },
    {
     "data": {
      "text/plain": [
       "v10032\n",
       " 1     1030\n",
       "-1      520\n",
       " 0      193\n",
       " 99     131\n",
       "Name: count, dtype: int64"
      ]
     },
     "execution_count": 230,
     "metadata": {},
     "output_type": "execute_result"
    }
   ],
   "source": [
    "dic_sim_nao(vars_categories[14], 'labels_f3.sps', df_dict)"
   ]
  },
  {
   "cell_type": "code",
   "execution_count": 231,
   "metadata": {},
   "outputs": [
    {
     "data": {
      "text/plain": [
       "('v10034', {'Sim': 0, nan: 1, 'Não Sabe': 2, 'Não': 3})"
      ]
     },
     "execution_count": 231,
     "metadata": {},
     "output_type": "execute_result"
    }
   ],
   "source": [
    "autodict(df, vars_categories[15])"
   ]
  },
  {
   "cell_type": "code",
   "execution_count": 232,
   "metadata": {},
   "outputs": [
    {
     "name": "stdout",
     "output_type": "stream",
     "text": [
      "Arquivo labels_f3.sps atualizado com sucesso!\n"
     ]
    },
    {
     "data": {
      "text/plain": [
       "v10034\n",
       "-1     844\n",
       " 1     453\n",
       " 0     438\n",
       " 99    139\n",
       "Name: count, dtype: int64"
      ]
     },
     "execution_count": 232,
     "metadata": {},
     "output_type": "execute_result"
    }
   ],
   "source": [
    "dic_sim_nao(vars_categories[15], 'labels_f3.sps', df_dict)"
   ]
  },
  {
   "cell_type": "code",
   "execution_count": 233,
   "metadata": {},
   "outputs": [
    {
     "data": {
      "text/plain": [
       "('v10033', {'Sim': 0, nan: 1, 'Não': 2, 'Não Sabe': 3})"
      ]
     },
     "execution_count": 233,
     "metadata": {},
     "output_type": "execute_result"
    }
   ],
   "source": [
    "autodict(df, vars_categories[16])"
   ]
  },
  {
   "cell_type": "code",
   "execution_count": 234,
   "metadata": {},
   "outputs": [
    {
     "name": "stdout",
     "output_type": "stream",
     "text": [
      "Arquivo labels_f3.sps atualizado com sucesso!\n"
     ]
    },
    {
     "data": {
      "text/plain": [
       "v10033\n",
       " 1     938\n",
       "-1     844\n",
       " 99     53\n",
       " 0      39\n",
       "Name: count, dtype: int64"
      ]
     },
     "execution_count": 234,
     "metadata": {},
     "output_type": "execute_result"
    }
   ],
   "source": [
    "dic_sim_nao(vars_categories[16], 'labels_f3.sps', df_dict)"
   ]
  },
  {
   "cell_type": "code",
   "execution_count": 235,
   "metadata": {},
   "outputs": [
    {
     "data": {
      "text/plain": [
       "('v14107',\n",
       " {'Mensal': 0,\n",
       "  nan: 1,\n",
       "  'Não sabe': 2,\n",
       "  'Bimestral': 3,\n",
       "  'Quinzenal': 4,\n",
       "  'Semestral': 5,\n",
       "  'Semanal': 6,\n",
       "  'Diária': 7,\n",
       "  'Anual': 8})"
      ]
     },
     "execution_count": 235,
     "metadata": {},
     "output_type": "execute_result"
    }
   ],
   "source": [
    "autodict(df, vars_categories[17])"
   ]
  },
  {
   "cell_type": "code",
   "execution_count": 236,
   "metadata": {},
   "outputs": [
    {
     "name": "stdout",
     "output_type": "stream",
     "text": [
      "Arquivo labels_f3.sps atualizado com sucesso!\n"
     ]
    },
    {
     "data": {
      "text/plain": [
       "v14107\n",
       "-1      844\n",
       " 12     264\n",
       " 2      216\n",
       " 3      144\n",
       " 99     111\n",
       " 48      97\n",
       " 365     85\n",
       " 1       68\n",
       " 24      45\n",
       "Name: count, dtype: int64"
      ]
     },
     "execution_count": 236,
     "metadata": {},
     "output_type": "execute_result"
    }
   ],
   "source": [
    "v14107_dict = {\n",
    "    \"Diária\": 365,\n",
    "    \"Semanal\": 48,\n",
    "    \"Quinzenal\": 24,\n",
    "    \"Mensal\": 12,\n",
    "    \"Bimestral\": 3,\n",
    "    \"Semestral\": 2,\n",
    "    \"Anual\": 1,\n",
    "    \"Não sabe\": 99\n",
    "}\n",
    "\n",
    "df[\"v14107\"] = df[\"v14107\"].map(v14107_dict)\n",
    "\n",
    "# aplicando a função map para converter a série em inteiros e tratar NaN\n",
    "df[\"v14107\"] = df[\"v14107\"].map(lambda x: int(x) if not np.isnan(x) else -1)\n",
    "\n",
    "atrib_lbl(\"v14107\", v14107_dict, \"labels_f3.sps\", df_dict)\n",
    "\n",
    "df[\"v14107\"].value_counts()"
   ]
  },
  {
   "cell_type": "code",
   "execution_count": 237,
   "metadata": {},
   "outputs": [
    {
     "data": {
      "text/plain": [
       "('v10036', {'Não': 0, 'Não Sabe': 1, nan: 2, 'Sim': 3})"
      ]
     },
     "execution_count": 237,
     "metadata": {},
     "output_type": "execute_result"
    }
   ],
   "source": [
    "autodict(df, vars_categories[18])"
   ]
  },
  {
   "cell_type": "code",
   "execution_count": 238,
   "metadata": {},
   "outputs": [
    {
     "name": "stdout",
     "output_type": "stream",
     "text": [
      "Arquivo labels_f3.sps atualizado com sucesso!\n"
     ]
    },
    {
     "data": {
      "text/plain": [
       "v10036\n",
       " 0     574\n",
       "-1     520\n",
       " 1     450\n",
       " 99    330\n",
       "Name: count, dtype: int64"
      ]
     },
     "execution_count": 238,
     "metadata": {},
     "output_type": "execute_result"
    }
   ],
   "source": [
    "dic_sim_nao(vars_categories[18], 'labels_f3.sps', df_dict)"
   ]
  },
  {
   "cell_type": "code",
   "execution_count": 239,
   "metadata": {},
   "outputs": [
    {
     "data": {
      "text/plain": [
       "('v14110',\n",
       " {nan: 0,\n",
       "  'Não sabe': 1,\n",
       "  'Mensal': 2,\n",
       "  'Semanal': 3,\n",
       "  'Semestral': 4,\n",
       "  'Diária': 5,\n",
       "  'Bimestral': 6,\n",
       "  'Quinzenal': 7,\n",
       "  'Anual': 8})"
      ]
     },
     "execution_count": 239,
     "metadata": {},
     "output_type": "execute_result"
    }
   ],
   "source": [
    "autodict(df, vars_categories[19])"
   ]
  },
  {
   "cell_type": "code",
   "execution_count": 240,
   "metadata": {},
   "outputs": [
    {
     "name": "stdout",
     "output_type": "stream",
     "text": [
      "Arquivo labels_f3.sps atualizado com sucesso!\n"
     ]
    },
    {
     "data": {
      "text/plain": [
       "v14110\n",
       "-1      1424\n",
       " 12      108\n",
       " 2        93\n",
       " 3        62\n",
       " 48       52\n",
       " 99       44\n",
       " 365      38\n",
       " 1        32\n",
       " 24       21\n",
       "Name: count, dtype: int64"
      ]
     },
     "execution_count": 240,
     "metadata": {},
     "output_type": "execute_result"
    }
   ],
   "source": [
    "v14110_dict = {\n",
    "    \"Diária\": 365,\n",
    "    \"Semanal\": 48,\n",
    "    \"Quinzenal\": 24,\n",
    "    \"Mensal\": 12,\n",
    "    \"Bimestral\": 3,\n",
    "    \"Semestral\": 2,\n",
    "    \"Anual\": 1,\n",
    "    \"Não sabe\": 99\n",
    "}\n",
    "\n",
    "df[\"v14110\"] = df[\"v14110\"].map(v14110_dict)\n",
    "\n",
    "# aplicando a função map para converter a série em inteiros e tratar NaN\n",
    "df[\"v14110\"] = df[\"v14110\"].map(lambda x: int(x) if not np.isnan(x) else -1)\n",
    "\n",
    "atrib_lbl(\"v14110\", v14110_dict, \"labels_f3.sps\", df_dict)\n",
    "\n",
    "df[\"v14110\"].value_counts()"
   ]
  },
  {
   "cell_type": "code",
   "execution_count": 241,
   "metadata": {},
   "outputs": [
    {
     "data": {
      "text/plain": [
       "('v9052', {'Sim': 0, 'Não Sabe': 1, 'Não': 2})"
      ]
     },
     "execution_count": 241,
     "metadata": {},
     "output_type": "execute_result"
    }
   ],
   "source": [
    "autodict(df, vars_categories[20])"
   ]
  },
  {
   "cell_type": "code",
   "execution_count": 242,
   "metadata": {},
   "outputs": [
    {
     "name": "stdout",
     "output_type": "stream",
     "text": [
      "Arquivo labels_f3.sps atualizado com sucesso!\n"
     ]
    },
    {
     "data": {
      "text/plain": [
       "v9052\n",
       "1     1642\n",
       "0      124\n",
       "99     108\n",
       "Name: count, dtype: int64"
      ]
     },
     "execution_count": 242,
     "metadata": {},
     "output_type": "execute_result"
    }
   ],
   "source": [
    "dic_sim_nao(vars_categories[20], 'labels_f3.sps', df_dict)"
   ]
  },
  {
   "cell_type": "code",
   "execution_count": 243,
   "metadata": {},
   "outputs": [
    {
     "data": {
      "text/plain": [
       "('v9998', {'Sim': 0, 'Não': 1, nan: 2, 'Não Sabe': 3})"
      ]
     },
     "execution_count": 243,
     "metadata": {},
     "output_type": "execute_result"
    }
   ],
   "source": [
    "autodict(df, vars_categories[21])"
   ]
  },
  {
   "cell_type": "code",
   "execution_count": 244,
   "metadata": {},
   "outputs": [
    {
     "name": "stdout",
     "output_type": "stream",
     "text": [
      "Arquivo labels_f3.sps atualizado com sucesso!\n"
     ]
    },
    {
     "data": {
      "text/plain": [
       "v9998\n",
       " 1     1419\n",
       "-1      232\n",
       " 0      168\n",
       " 99      55\n",
       "Name: count, dtype: int64"
      ]
     },
     "execution_count": 244,
     "metadata": {},
     "output_type": "execute_result"
    }
   ],
   "source": [
    "dic_sim_nao(vars_categories[21], 'labels_f3.sps', df_dict)"
   ]
  },
  {
   "cell_type": "code",
   "execution_count": 245,
   "metadata": {},
   "outputs": [
    {
     "data": {
      "text/plain": [
       "('v14156', {'Sim': 0, nan: 1, 'Não': 2, 'Não Sabe': 3})"
      ]
     },
     "execution_count": 245,
     "metadata": {},
     "output_type": "execute_result"
    }
   ],
   "source": [
    "autodict(df, vars_categories[22])"
   ]
  },
  {
   "cell_type": "code",
   "execution_count": 246,
   "metadata": {},
   "outputs": [
    {
     "name": "stdout",
     "output_type": "stream",
     "text": [
      "Arquivo labels_f3.sps atualizado com sucesso!\n"
     ]
    },
    {
     "data": {
      "text/plain": [
       "v14156\n",
       " 1     1444\n",
       "-1      232\n",
       " 99     129\n",
       " 0       69\n",
       "Name: count, dtype: int64"
      ]
     },
     "execution_count": 246,
     "metadata": {},
     "output_type": "execute_result"
    }
   ],
   "source": [
    "dic_sim_nao(vars_categories[22], 'labels_f3.sps', df_dict)"
   ]
  },
  {
   "cell_type": "code",
   "execution_count": 247,
   "metadata": {},
   "outputs": [
    {
     "data": {
      "text/plain": [
       "('v14158',\n",
       " {'de 4 a 6 meses': 0,\n",
       "  'Não há um limite de tempo para receber o benefício': 1,\n",
       "  'de 1 a 3 meses': 2,\n",
       "  nan: 3,\n",
       "  'Não Sabe': 4,\n",
       "  'Recebe uma única vez': 5,\n",
       "  'de 7 a 12 meses': 6,\n",
       "  'mais de 12 meses': 7})"
      ]
     },
     "execution_count": 247,
     "metadata": {},
     "output_type": "execute_result"
    }
   ],
   "source": [
    "autodict(df, vars_categories[23])"
   ]
  },
  {
   "cell_type": "code",
   "execution_count": 248,
   "metadata": {},
   "outputs": [
    {
     "name": "stdout",
     "output_type": "stream",
     "text": [
      "Arquivo labels_f3.sps atualizado com sucesso!\n"
     ]
    },
    {
     "data": {
      "text/plain": [
       "v14158\n",
       " 24    535\n",
       " 3     447\n",
       "-1     430\n",
       " 6     279\n",
       " 12     79\n",
       " 99     59\n",
       " 15     23\n",
       " 1      22\n",
       "Name: count, dtype: int64"
      ]
     },
     "execution_count": 248,
     "metadata": {},
     "output_type": "execute_result"
    }
   ],
   "source": [
    "v14158_dict = {\n",
    "  'de 1 a 3 meses': 3,\n",
    "  'de 4 a 6 meses': 6,\n",
    "  'de 7 a 12 meses': 12,\n",
    "  'mais de 12 meses': 15,\n",
    "  'Recebe uma única vez': 1,\n",
    "  'Não há um limite de tempo para receber o benefício': 24,\n",
    "  'Não Sabe': 99\n",
    "}\n",
    "\n",
    "df[\"v14158\"] = df[\"v14158\"].map(v14158_dict)\n",
    "\n",
    "# aplicando a função map para converter a série em inteiros e tratar NaN\n",
    "df[\"v14158\"] = df[\"v14158\"].map(lambda x: int(x) if not np.isnan(x) else -1)\n",
    "\n",
    "atrib_lbl(\"v14158\", v14158_dict, \"labels_f3.sps\", df_dict)\n",
    "\n",
    "df[\"v14158\"].value_counts()"
   ]
  },
  {
   "cell_type": "code",
   "execution_count": 249,
   "metadata": {},
   "outputs": [
    {
     "data": {
      "text/plain": [
       "('v14162', {'Sim': 0, nan: 1, 'Não': 2, 'Não Sabe': 3})"
      ]
     },
     "execution_count": 249,
     "metadata": {},
     "output_type": "execute_result"
    }
   ],
   "source": [
    "autodict(df, vars_categories[27])"
   ]
  },
  {
   "cell_type": "code",
   "execution_count": 250,
   "metadata": {},
   "outputs": [
    {
     "name": "stdout",
     "output_type": "stream",
     "text": [
      "Arquivo labels_f3.sps atualizado com sucesso!\n"
     ]
    },
    {
     "data": {
      "text/plain": [
       "v14162\n",
       " 1     1281\n",
       "-1      430\n",
       " 0      102\n",
       " 99      61\n",
       "Name: count, dtype: int64"
      ]
     },
     "execution_count": 250,
     "metadata": {},
     "output_type": "execute_result"
    }
   ],
   "source": [
    "dic_sim_nao(vars_categories[27], 'labels_f3.sps', df_dict)"
   ]
  },
  {
   "cell_type": "code",
   "execution_count": 251,
   "metadata": {},
   "outputs": [
    {
     "data": {
      "text/plain": [
       "('v14153', {'Sim': 0, 'Não': 1, 'Não Sabe': 2})"
      ]
     },
     "execution_count": 251,
     "metadata": {},
     "output_type": "execute_result"
    }
   ],
   "source": [
    "autodict(df, vars_categories[28])"
   ]
  },
  {
   "cell_type": "code",
   "execution_count": 252,
   "metadata": {},
   "outputs": [
    {
     "name": "stdout",
     "output_type": "stream",
     "text": [
      "Arquivo labels_f3.sps atualizado com sucesso!\n"
     ]
    },
    {
     "data": {
      "text/plain": [
       "v14153\n",
       "0     992\n",
       "1     563\n",
       "99    319\n",
       "Name: count, dtype: int64"
      ]
     },
     "execution_count": 252,
     "metadata": {},
     "output_type": "execute_result"
    }
   ],
   "source": [
    "dic_sim_nao(vars_categories[28], 'labels_f3.sps', df_dict)"
   ]
  },
  {
   "cell_type": "code",
   "execution_count": 253,
   "metadata": {},
   "outputs": [
    {
     "data": {
      "text/plain": [
       "('v14111', {'Sim': 0, 'Não Sabe': 1, 'Não': 2})"
      ]
     },
     "execution_count": 253,
     "metadata": {},
     "output_type": "execute_result"
    }
   ],
   "source": [
    "autodict(df, vars_categories[30])"
   ]
  },
  {
   "cell_type": "code",
   "execution_count": 254,
   "metadata": {},
   "outputs": [
    {
     "name": "stdout",
     "output_type": "stream",
     "text": [
      "Arquivo labels_f3.sps atualizado com sucesso!\n"
     ]
    },
    {
     "data": {
      "text/plain": [
       "v14111\n",
       "1     1595\n",
       "99     163\n",
       "0      116\n",
       "Name: count, dtype: int64"
      ]
     },
     "execution_count": 254,
     "metadata": {},
     "output_type": "execute_result"
    }
   ],
   "source": [
    "dic_sim_nao(vars_categories[30], 'labels_f3.sps', df_dict)"
   ]
  },
  {
   "cell_type": "code",
   "execution_count": 255,
   "metadata": {},
   "outputs": [
    {
     "data": {
      "text/plain": [
       "('v10055', {'Não Sabe': 0, 'Sim': 1, 'Não': 2})"
      ]
     },
     "execution_count": 255,
     "metadata": {},
     "output_type": "execute_result"
    }
   ],
   "source": [
    "autodict(df, vars_categories[33])"
   ]
  },
  {
   "cell_type": "code",
   "execution_count": 257,
   "metadata": {},
   "outputs": [
    {
     "name": "stdout",
     "output_type": "stream",
     "text": [
      "Arquivo labels_f3.sps atualizado com sucesso!\n"
     ]
    },
    {
     "data": {
      "text/plain": [
       "v10055\n",
       "1     826\n",
       "99    535\n",
       "0     513\n",
       "Name: count, dtype: int64"
      ]
     },
     "execution_count": 257,
     "metadata": {},
     "output_type": "execute_result"
    }
   ],
   "source": [
    "dic_sim_nao(vars_categories[33], 'labels_f3.sps', df_dict)"
   ]
  },
  {
   "cell_type": "code",
   "execution_count": 260,
   "metadata": {},
   "outputs": [
    {
     "data": {
      "text/plain": [
       "('v10013', {'Não Sabe': 0, 'Não': 1, 'Sim': 2, nan: 3})"
      ]
     },
     "execution_count": 260,
     "metadata": {},
     "output_type": "execute_result"
    }
   ],
   "source": [
    "autodict(df, vars_categories[36])"
   ]
  },
  {
   "cell_type": "code",
   "execution_count": 261,
   "metadata": {},
   "outputs": [
    {
     "name": "stdout",
     "output_type": "stream",
     "text": [
      "Arquivo labels_f3.sps atualizado com sucesso!\n"
     ]
    },
    {
     "data": {
      "text/plain": [
       "v10013\n",
       " 0     814\n",
       " 1     586\n",
       " 99    473\n",
       "-1       1\n",
       "Name: count, dtype: int64"
      ]
     },
     "execution_count": 261,
     "metadata": {},
     "output_type": "execute_result"
    }
   ],
   "source": [
    "dic_sim_nao(vars_categories[36], 'labels_f3.sps', df_dict)"
   ]
  },
  {
   "cell_type": "code",
   "execution_count": 262,
   "metadata": {},
   "outputs": [],
   "source": [
    "df.loc[df['v10013'] == -1, 'v10013'] = 99"
   ]
  },
  {
   "cell_type": "code",
   "execution_count": 263,
   "metadata": {},
   "outputs": [
    {
     "data": {
      "text/plain": [
       "v10013\n",
       "0     814\n",
       "1     586\n",
       "99    474\n",
       "Name: count, dtype: int64"
      ]
     },
     "execution_count": 263,
     "metadata": {},
     "output_type": "execute_result"
    }
   ],
   "source": [
    "df['v10013'].value_counts()"
   ]
  },
  {
   "cell_type": "code",
   "execution_count": 264,
   "metadata": {},
   "outputs": [
    {
     "data": {
      "text/plain": [
       "('v9054', {nan: 0, 'Sim': 1, 'Não Sabe': 2, 'Não': 3})"
      ]
     },
     "execution_count": 264,
     "metadata": {},
     "output_type": "execute_result"
    }
   ],
   "source": [
    "autodict(df, vars_categories[37])"
   ]
  },
  {
   "cell_type": "code",
   "execution_count": 265,
   "metadata": {},
   "outputs": [
    {
     "name": "stdout",
     "output_type": "stream",
     "text": [
      "Arquivo labels_f3.sps atualizado com sucesso!\n"
     ]
    },
    {
     "data": {
      "text/plain": [
       "v9054\n",
       "-1     1288\n",
       " 1      355\n",
       " 0      131\n",
       " 99     100\n",
       "Name: count, dtype: int64"
      ]
     },
     "execution_count": 265,
     "metadata": {},
     "output_type": "execute_result"
    }
   ],
   "source": [
    "dic_sim_nao(vars_categories[37], 'labels_f3.sps', df_dict)"
   ]
  },
  {
   "cell_type": "code",
   "execution_count": 266,
   "metadata": {},
   "outputs": [
    {
     "data": {
      "text/plain": [
       "('v9057', {'Não Sabe': 0, 'Não': 1, 'Sim': 2, nan: 3})"
      ]
     },
     "execution_count": 266,
     "metadata": {},
     "output_type": "execute_result"
    }
   ],
   "source": [
    "autodict(df, vars_categories[38])"
   ]
  },
  {
   "cell_type": "code",
   "execution_count": 267,
   "metadata": {},
   "outputs": [
    {
     "name": "stdout",
     "output_type": "stream",
     "text": [
      "Arquivo labels_f3.sps atualizado com sucesso!\n"
     ]
    },
    {
     "data": {
      "text/plain": [
       "v9057\n",
       " 1     661\n",
       " 99    608\n",
       " 0     604\n",
       "-1       1\n",
       "Name: count, dtype: int64"
      ]
     },
     "execution_count": 267,
     "metadata": {},
     "output_type": "execute_result"
    }
   ],
   "source": [
    "dic_sim_nao(vars_categories[38], 'labels_f3.sps', df_dict)"
   ]
  },
  {
   "cell_type": "code",
   "execution_count": 268,
   "metadata": {},
   "outputs": [],
   "source": [
    "df.loc[df['v9057'] == -1, 'v9057'] = 99"
   ]
  },
  {
   "cell_type": "code",
   "execution_count": 269,
   "metadata": {},
   "outputs": [
    {
     "data": {
      "text/plain": [
       "('v14122', {'Sim': 0, 'Não Sabe': 1, 'Não': 2, nan: 3})"
      ]
     },
     "execution_count": 269,
     "metadata": {},
     "output_type": "execute_result"
    }
   ],
   "source": [
    "autodict(df, vars_categories[39])"
   ]
  },
  {
   "cell_type": "code",
   "execution_count": 270,
   "metadata": {},
   "outputs": [
    {
     "name": "stdout",
     "output_type": "stream",
     "text": [
      "Arquivo labels_f3.sps atualizado com sucesso!\n"
     ]
    },
    {
     "data": {
      "text/plain": [
       "v14122\n",
       " 1     1706\n",
       " 99     111\n",
       " 0       56\n",
       "-1        1\n",
       "Name: count, dtype: int64"
      ]
     },
     "execution_count": 270,
     "metadata": {},
     "output_type": "execute_result"
    }
   ],
   "source": [
    "dic_sim_nao(vars_categories[39], 'labels_f3.sps', df_dict)"
   ]
  },
  {
   "cell_type": "code",
   "execution_count": 271,
   "metadata": {},
   "outputs": [],
   "source": [
    "df.loc[df['v14122'] == -1, 'v14122'] = 99"
   ]
  },
  {
   "cell_type": "code",
   "execution_count": 272,
   "metadata": {},
   "outputs": [
    {
     "data": {
      "text/plain": [
       "('v14125', {'Sim': 0, nan: 1, 'Não': 2, 'Não Sabe': 3})"
      ]
     },
     "execution_count": 272,
     "metadata": {},
     "output_type": "execute_result"
    }
   ],
   "source": [
    "autodict(df, vars_categories[40])"
   ]
  },
  {
   "cell_type": "code",
   "execution_count": 273,
   "metadata": {},
   "outputs": [
    {
     "name": "stdout",
     "output_type": "stream",
     "text": [
      "Arquivo labels_f3.sps atualizado com sucesso!\n"
     ]
    },
    {
     "data": {
      "text/plain": [
       "v14125\n",
       " 1     1430\n",
       " 0      170\n",
       "-1      168\n",
       " 99     106\n",
       "Name: count, dtype: int64"
      ]
     },
     "execution_count": 273,
     "metadata": {},
     "output_type": "execute_result"
    }
   ],
   "source": [
    "dic_sim_nao(vars_categories[40], 'labels_f3.sps', df_dict)"
   ]
  },
  {
   "cell_type": "code",
   "execution_count": 274,
   "metadata": {},
   "outputs": [
    {
     "data": {
      "text/plain": [
       "('v14128', {'Não Sabe': 0, 'Não': 1, nan: 2, 'Sim': 3})"
      ]
     },
     "execution_count": 274,
     "metadata": {},
     "output_type": "execute_result"
    }
   ],
   "source": [
    "autodict(df, vars_categories[41])"
   ]
  },
  {
   "cell_type": "code",
   "execution_count": 275,
   "metadata": {},
   "outputs": [
    {
     "name": "stdout",
     "output_type": "stream",
     "text": [
      "Arquivo labels_f3.sps atualizado com sucesso!\n"
     ]
    },
    {
     "data": {
      "text/plain": [
       "v14128\n",
       " 0     1101\n",
       " 99     412\n",
       " 1      193\n",
       "-1      168\n",
       "Name: count, dtype: int64"
      ]
     },
     "execution_count": 275,
     "metadata": {},
     "output_type": "execute_result"
    }
   ],
   "source": [
    "dic_sim_nao(vars_categories[41], 'labels_f3.sps', df_dict)"
   ]
  },
  {
   "cell_type": "code",
   "execution_count": 280,
   "metadata": {},
   "outputs": [],
   "source": [
    "import pyreadstat\n",
    "pyreadstat.write_sav(df, './dados_tratados/mapasan2022_acoes.sav')"
   ]
  }
 ],
 "metadata": {
  "kernelspec": {
   "display_name": "vensan",
   "language": "python",
   "name": "python3"
  },
  "language_info": {
   "codemirror_mode": {
    "name": "ipython",
    "version": 3
   },
   "file_extension": ".py",
   "mimetype": "text/x-python",
   "name": "python",
   "nbconvert_exporter": "python",
   "pygments_lexer": "ipython3",
   "version": "3.11.0"
  },
  "orig_nbformat": 4
 },
 "nbformat": 4,
 "nbformat_minor": 2
}
